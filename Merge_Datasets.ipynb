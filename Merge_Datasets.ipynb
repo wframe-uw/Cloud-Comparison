{
 "cells": [
  {
   "cell_type": "code",
   "execution_count": 1,
   "id": "3b7c87e4",
   "metadata": {},
   "outputs": [],
   "source": [
    "import pandas as pd\n",
    "import numpy as np"
   ]
  },
  {
   "cell_type": "code",
   "execution_count": 2,
   "id": "f24ee94b",
   "metadata": {},
   "outputs": [],
   "source": [
    "# Azure\n",
    "azure_compute_src = './data/azure.merged.compute.xz.pkl' \n",
    "azure_compute_data = pd.read_pickle(azure_compute_src, compression=\"xz\")"
   ]
  },
  {
   "cell_type": "code",
   "execution_count": 3,
   "id": "640aae54",
   "metadata": {},
   "outputs": [],
   "source": [
    "# AWS\n",
    "aws_compute_src = './data/aws.src.compute.xz.pkl' \n",
    "aws_compute_data = pd.read_pickle(aws_compute_src, compression=\"xz\")"
   ]
  },
  {
   "cell_type": "code",
   "execution_count": 4,
   "id": "52497c5a",
   "metadata": {},
   "outputs": [],
   "source": [
    "# GCP\n",
    "gcp_compute_src = './data/gcp_compute_costs.csv'\n",
    "gcp_compute_data = pd.read_csv(gcp_compute_src)"
   ]
  },
  {
   "cell_type": "markdown",
   "id": "53245410",
   "metadata": {},
   "source": [
    "## Inspect AWS"
   ]
  },
  {
   "cell_type": "code",
   "execution_count": 5,
   "id": "07240b8c",
   "metadata": {},
   "outputs": [
    {
     "data": {
      "text/plain": [
       "Index(['sku', 'offercode', 'location', 'instance_type', 'instance_family',\n",
       "       'vcpu', 'clock_speed', 'memory', 'storage', 'network_performance',\n",
       "       'processor_architecture', 'tenancy', 'os', 'usagetype', 'operation',\n",
       "       'pd_key', 'price_description', 'unit', 'price'],\n",
       "      dtype='object')"
      ]
     },
     "execution_count": 5,
     "metadata": {},
     "output_type": "execute_result"
    }
   ],
   "source": [
    "aws_compute_data.columns"
   ]
  },
  {
   "cell_type": "code",
   "execution_count": 6,
   "id": "45ad9d50",
   "metadata": {},
   "outputs": [
    {
     "data": {
      "text/plain": [
       "0         $0.00 per Dedicated Reservation RHEL m4.10xlar...\n",
       "1         $0.00 per RHEL with HA and SQL Enterprise i3.8...\n",
       "2         $0.00 per Reservation RHEL c5a.large Instance ...\n",
       "3         $7.293 per On Demand Linux with SQL Web inf1.2...\n",
       "4         $7.234 per Unused Reservation RHEL with SQL We...\n",
       "                                ...                        \n",
       "505796    $2.046 per Unused Reservation Windows with SQL...\n",
       "505797    $0.00 per Dedicated Reservation RHEL with HA a...\n",
       "505798    $16.704 per On Demand Windows with SQL Server ...\n",
       "505799    $0.1784 per Unused Reservation RHEL r6g.large ...\n",
       "505800    $0.511 per Dedicated SUSE i3.xlarge Instance Hour\n",
       "Name: price_description, Length: 505801, dtype: object"
      ]
     },
     "execution_count": 6,
     "metadata": {},
     "output_type": "execute_result"
    }
   ],
   "source": [
    "aws_compute_data['price_description']"
   ]
  },
  {
   "cell_type": "code",
   "execution_count": 7,
   "id": "d9d07169",
   "metadata": {},
   "outputs": [],
   "source": [
    "aws_compute_data_trimmed = aws_compute_data.drop(columns=['offercode','processor_architecture','usagetype','operation',\n",
    "                                                          'pd_key','price_description','unit','network_performance'])"
   ]
  },
  {
   "cell_type": "code",
   "execution_count": 8,
   "id": "576bad1f",
   "metadata": {},
   "outputs": [
    {
     "data": {
      "text/plain": [
       "Index(['sku', 'location', 'instance_type', 'instance_family', 'vcpu',\n",
       "       'clock_speed', 'memory', 'storage', 'tenancy', 'os', 'price'],\n",
       "      dtype='object')"
      ]
     },
     "execution_count": 8,
     "metadata": {},
     "output_type": "execute_result"
    }
   ],
   "source": [
    "aws_compute_data_trimmed.columns"
   ]
  },
  {
   "cell_type": "code",
   "execution_count": 9,
   "id": "b71c1da1",
   "metadata": {},
   "outputs": [],
   "source": [
    "# windows only\n",
    "aws_compute_data_windows = aws_compute_data_trimmed[aws_compute_data_trimmed['os'] == 'Windows']"
   ]
  },
  {
   "cell_type": "code",
   "execution_count": 10,
   "id": "58b98f49",
   "metadata": {},
   "outputs": [
    {
     "data": {
      "text/html": [
       "<div>\n",
       "<style scoped>\n",
       "    .dataframe tbody tr th:only-of-type {\n",
       "        vertical-align: middle;\n",
       "    }\n",
       "\n",
       "    .dataframe tbody tr th {\n",
       "        vertical-align: top;\n",
       "    }\n",
       "\n",
       "    .dataframe thead th {\n",
       "        text-align: right;\n",
       "    }\n",
       "</style>\n",
       "<table border=\"1\" class=\"dataframe\">\n",
       "  <thead>\n",
       "    <tr style=\"text-align: right;\">\n",
       "      <th></th>\n",
       "      <th>sku</th>\n",
       "      <th>location</th>\n",
       "      <th>instance_type</th>\n",
       "      <th>instance_family</th>\n",
       "      <th>vcpu</th>\n",
       "      <th>clock_speed</th>\n",
       "      <th>memory</th>\n",
       "      <th>storage</th>\n",
       "      <th>tenancy</th>\n",
       "      <th>os</th>\n",
       "      <th>price</th>\n",
       "    </tr>\n",
       "  </thead>\n",
       "  <tbody>\n",
       "    <tr>\n",
       "      <th>7</th>\n",
       "      <td>FMEJYTPF3M8YDBYD</td>\n",
       "      <td>Asia Pacific (Osaka)</td>\n",
       "      <td>r3.8xlarge</td>\n",
       "      <td>Memory optimized</td>\n",
       "      <td>32.0</td>\n",
       "      <td>2.5 GHz</td>\n",
       "      <td>244 GiB</td>\n",
       "      <td>2 x 320 SSD</td>\n",
       "      <td>Host</td>\n",
       "      <td>Windows</td>\n",
       "      <td>0.000</td>\n",
       "    </tr>\n",
       "    <tr>\n",
       "      <th>8</th>\n",
       "      <td>B9QWBFQZHCY7X3HM</td>\n",
       "      <td>EU (Ireland)</td>\n",
       "      <td>r5ad.2xlarge</td>\n",
       "      <td>Memory optimized</td>\n",
       "      <td>8.0</td>\n",
       "      <td>2.5 GHz</td>\n",
       "      <td>64 GiB</td>\n",
       "      <td>1 x 300 NVMe SSD</td>\n",
       "      <td>Shared</td>\n",
       "      <td>Windows</td>\n",
       "      <td>0.000</td>\n",
       "    </tr>\n",
       "    <tr>\n",
       "      <th>11</th>\n",
       "      <td>SA8JPXVV8GR6B4XS</td>\n",
       "      <td>US West (Oregon)</td>\n",
       "      <td>g4dn.xlarge</td>\n",
       "      <td>GPU instance</td>\n",
       "      <td>4.0</td>\n",
       "      <td>2.5 GHz</td>\n",
       "      <td>16 GiB</td>\n",
       "      <td>125 GB NVMe SSD</td>\n",
       "      <td>Host</td>\n",
       "      <td>Windows</td>\n",
       "      <td>0.000</td>\n",
       "    </tr>\n",
       "    <tr>\n",
       "      <th>18</th>\n",
       "      <td>PGGUDD5Q3K4SP2K5</td>\n",
       "      <td>EU (Ireland)</td>\n",
       "      <td>g4ad.4xlarge</td>\n",
       "      <td>GPU instance</td>\n",
       "      <td>16.0</td>\n",
       "      <td>2.8 GHz</td>\n",
       "      <td>64 GiB</td>\n",
       "      <td>600 GB NVMe SSD</td>\n",
       "      <td>Shared</td>\n",
       "      <td>Windows</td>\n",
       "      <td>1.704</td>\n",
       "    </tr>\n",
       "    <tr>\n",
       "      <th>19</th>\n",
       "      <td>4CR6D9AX3JUCVGKK</td>\n",
       "      <td>EU (Ireland)</td>\n",
       "      <td>m1.large</td>\n",
       "      <td>General purpose</td>\n",
       "      <td>2.0</td>\n",
       "      <td>NaN</td>\n",
       "      <td>7.5 GiB</td>\n",
       "      <td>2 x 420 SSD</td>\n",
       "      <td>Shared</td>\n",
       "      <td>Windows</td>\n",
       "      <td>0.190</td>\n",
       "    </tr>\n",
       "  </tbody>\n",
       "</table>\n",
       "</div>"
      ],
      "text/plain": [
       "                 sku              location instance_type   instance_family  \\\n",
       "7   FMEJYTPF3M8YDBYD  Asia Pacific (Osaka)    r3.8xlarge  Memory optimized   \n",
       "8   B9QWBFQZHCY7X3HM          EU (Ireland)  r5ad.2xlarge  Memory optimized   \n",
       "11  SA8JPXVV8GR6B4XS      US West (Oregon)   g4dn.xlarge      GPU instance   \n",
       "18  PGGUDD5Q3K4SP2K5          EU (Ireland)  g4ad.4xlarge      GPU instance   \n",
       "19  4CR6D9AX3JUCVGKK          EU (Ireland)      m1.large   General purpose   \n",
       "\n",
       "    vcpu clock_speed   memory           storage tenancy       os  price  \n",
       "7   32.0     2.5 GHz  244 GiB       2 x 320 SSD    Host  Windows  0.000  \n",
       "8    8.0     2.5 GHz   64 GiB  1 x 300 NVMe SSD  Shared  Windows  0.000  \n",
       "11   4.0     2.5 GHz   16 GiB   125 GB NVMe SSD    Host  Windows  0.000  \n",
       "18  16.0     2.8 GHz   64 GiB   600 GB NVMe SSD  Shared  Windows  1.704  \n",
       "19   2.0         NaN  7.5 GiB       2 x 420 SSD  Shared  Windows  0.190  "
      ]
     },
     "execution_count": 10,
     "metadata": {},
     "output_type": "execute_result"
    }
   ],
   "source": [
    "aws_compute_data_windows.head()"
   ]
  },
  {
   "cell_type": "markdown",
   "id": "a4e89e9b",
   "metadata": {},
   "source": [
    "## Inspect GCP"
   ]
  },
  {
   "cell_type": "code",
   "execution_count": 11,
   "id": "69935bdc",
   "metadata": {},
   "outputs": [
    {
     "data": {
      "text/plain": [
       "Index(['region', 'family', 'vm type', 'regional_disk', 'sole_tenant',\n",
       "       'nested_virtualization', 'local_ssd', 'cores', 'gpu', 'cpu', 'memory',\n",
       "       'network_egress', 'on demand price', 'preemptible price'],\n",
       "      dtype='object')"
      ]
     },
     "execution_count": 11,
     "metadata": {},
     "output_type": "execute_result"
    }
   ],
   "source": [
    "gcp_compute_data.columns"
   ]
  },
  {
   "cell_type": "code",
   "execution_count": 13,
   "id": "1b4b068e",
   "metadata": {},
   "outputs": [
    {
     "data": {
      "text/html": [
       "<div>\n",
       "<style scoped>\n",
       "    .dataframe tbody tr th:only-of-type {\n",
       "        vertical-align: middle;\n",
       "    }\n",
       "\n",
       "    .dataframe tbody tr th {\n",
       "        vertical-align: top;\n",
       "    }\n",
       "\n",
       "    .dataframe thead th {\n",
       "        text-align: right;\n",
       "    }\n",
       "</style>\n",
       "<table border=\"1\" class=\"dataframe\">\n",
       "  <thead>\n",
       "    <tr style=\"text-align: right;\">\n",
       "      <th></th>\n",
       "      <th>region</th>\n",
       "      <th>family</th>\n",
       "      <th>vm type</th>\n",
       "      <th>regional_disk</th>\n",
       "      <th>sole_tenant</th>\n",
       "      <th>nested_virtualization</th>\n",
       "      <th>local_ssd</th>\n",
       "      <th>cores</th>\n",
       "      <th>gpu</th>\n",
       "      <th>cpu</th>\n",
       "      <th>memory</th>\n",
       "      <th>network_egress</th>\n",
       "      <th>on demand price</th>\n",
       "      <th>preemptible price</th>\n",
       "    </tr>\n",
       "  </thead>\n",
       "  <tbody>\n",
       "    <tr>\n",
       "      <th>3730</th>\n",
       "      <td>asia-northeast3</td>\n",
       "      <td>a2</td>\n",
       "      <td>a2-megagpu-16g</td>\n",
       "      <td>1</td>\n",
       "      <td>-1</td>\n",
       "      <td>-1</td>\n",
       "      <td>1</td>\n",
       "      <td>96</td>\n",
       "      <td>1</td>\n",
       "      <td>['Cascade Lake']</td>\n",
       "      <td>1360.0</td>\n",
       "      <td>100</td>\n",
       "      <td>0</td>\n",
       "      <td>0</td>\n",
       "    </tr>\n",
       "    <tr>\n",
       "      <th>3731</th>\n",
       "      <td>asia-southeast</td>\n",
       "      <td>a2</td>\n",
       "      <td>a2-megagpu-16g</td>\n",
       "      <td>1</td>\n",
       "      <td>-1</td>\n",
       "      <td>-1</td>\n",
       "      <td>1</td>\n",
       "      <td>96</td>\n",
       "      <td>1</td>\n",
       "      <td>['Cascade Lake']</td>\n",
       "      <td>1360.0</td>\n",
       "      <td>100</td>\n",
       "      <td>10.85126</td>\n",
       "      <td>2.63909</td>\n",
       "    </tr>\n",
       "    <tr>\n",
       "      <th>3732</th>\n",
       "      <td>asia-southeast1</td>\n",
       "      <td>a2</td>\n",
       "      <td>a2-megagpu-16g</td>\n",
       "      <td>1</td>\n",
       "      <td>-1</td>\n",
       "      <td>-1</td>\n",
       "      <td>1</td>\n",
       "      <td>96</td>\n",
       "      <td>1</td>\n",
       "      <td>['Cascade Lake']</td>\n",
       "      <td>1360.0</td>\n",
       "      <td>100</td>\n",
       "      <td>10.85126</td>\n",
       "      <td>2.63909</td>\n",
       "    </tr>\n",
       "    <tr>\n",
       "      <th>3733</th>\n",
       "      <td>australia-southeast1</td>\n",
       "      <td>a2</td>\n",
       "      <td>a2-megagpu-16g</td>\n",
       "      <td>1</td>\n",
       "      <td>-1</td>\n",
       "      <td>-1</td>\n",
       "      <td>1</td>\n",
       "      <td>96</td>\n",
       "      <td>1</td>\n",
       "      <td>['Cascade Lake']</td>\n",
       "      <td>1360.0</td>\n",
       "      <td>100</td>\n",
       "      <td>0</td>\n",
       "      <td>0</td>\n",
       "    </tr>\n",
       "    <tr>\n",
       "      <th>3734</th>\n",
       "      <td>australia-southeast2</td>\n",
       "      <td>a2</td>\n",
       "      <td>a2-megagpu-16g</td>\n",
       "      <td>1</td>\n",
       "      <td>-1</td>\n",
       "      <td>-1</td>\n",
       "      <td>1</td>\n",
       "      <td>96</td>\n",
       "      <td>1</td>\n",
       "      <td>['Cascade Lake']</td>\n",
       "      <td>1360.0</td>\n",
       "      <td>100</td>\n",
       "      <td>0</td>\n",
       "      <td>0</td>\n",
       "    </tr>\n",
       "    <tr>\n",
       "      <th>3735</th>\n",
       "      <td>australia</td>\n",
       "      <td>a2</td>\n",
       "      <td>a2-megagpu-16g</td>\n",
       "      <td>1</td>\n",
       "      <td>-1</td>\n",
       "      <td>-1</td>\n",
       "      <td>1</td>\n",
       "      <td>96</td>\n",
       "      <td>1</td>\n",
       "      <td>['Cascade Lake']</td>\n",
       "      <td>1360.0</td>\n",
       "      <td>100</td>\n",
       "      <td>0</td>\n",
       "      <td>0</td>\n",
       "    </tr>\n",
       "    <tr>\n",
       "      <th>3736</th>\n",
       "      <td>southamerica-east1</td>\n",
       "      <td>a2</td>\n",
       "      <td>a2-megagpu-16g</td>\n",
       "      <td>1</td>\n",
       "      <td>-1</td>\n",
       "      <td>-1</td>\n",
       "      <td>1</td>\n",
       "      <td>96</td>\n",
       "      <td>1</td>\n",
       "      <td>['Cascade Lake']</td>\n",
       "      <td>1360.0</td>\n",
       "      <td>100</td>\n",
       "      <td>0</td>\n",
       "      <td>0</td>\n",
       "    </tr>\n",
       "    <tr>\n",
       "      <th>3737</th>\n",
       "      <td>asia-south1</td>\n",
       "      <td>a2</td>\n",
       "      <td>a2-megagpu-16g</td>\n",
       "      <td>1</td>\n",
       "      <td>-1</td>\n",
       "      <td>-1</td>\n",
       "      <td>1</td>\n",
       "      <td>96</td>\n",
       "      <td>1</td>\n",
       "      <td>['Cascade Lake']</td>\n",
       "      <td>1360.0</td>\n",
       "      <td>100</td>\n",
       "      <td>0</td>\n",
       "      <td>0</td>\n",
       "    </tr>\n",
       "    <tr>\n",
       "      <th>3738</th>\n",
       "      <td>asia-southeast2</td>\n",
       "      <td>a2</td>\n",
       "      <td>a2-megagpu-16g</td>\n",
       "      <td>1</td>\n",
       "      <td>-1</td>\n",
       "      <td>-1</td>\n",
       "      <td>1</td>\n",
       "      <td>96</td>\n",
       "      <td>1</td>\n",
       "      <td>['Cascade Lake']</td>\n",
       "      <td>1360.0</td>\n",
       "      <td>100</td>\n",
       "      <td>0</td>\n",
       "      <td>0</td>\n",
       "    </tr>\n",
       "    <tr>\n",
       "      <th>3739</th>\n",
       "      <td>asia-south2</td>\n",
       "      <td>a2</td>\n",
       "      <td>a2-megagpu-16g</td>\n",
       "      <td>1</td>\n",
       "      <td>-1</td>\n",
       "      <td>-1</td>\n",
       "      <td>1</td>\n",
       "      <td>96</td>\n",
       "      <td>1</td>\n",
       "      <td>['Cascade Lake']</td>\n",
       "      <td>1360.0</td>\n",
       "      <td>100</td>\n",
       "      <td>0</td>\n",
       "      <td>0</td>\n",
       "    </tr>\n",
       "  </tbody>\n",
       "</table>\n",
       "</div>"
      ],
      "text/plain": [
       "                    region family         vm type regional_disk  sole_tenant  \\\n",
       "3730       asia-northeast3     a2  a2-megagpu-16g             1           -1   \n",
       "3731        asia-southeast     a2  a2-megagpu-16g             1           -1   \n",
       "3732       asia-southeast1     a2  a2-megagpu-16g             1           -1   \n",
       "3733  australia-southeast1     a2  a2-megagpu-16g             1           -1   \n",
       "3734  australia-southeast2     a2  a2-megagpu-16g             1           -1   \n",
       "3735             australia     a2  a2-megagpu-16g             1           -1   \n",
       "3736    southamerica-east1     a2  a2-megagpu-16g             1           -1   \n",
       "3737           asia-south1     a2  a2-megagpu-16g             1           -1   \n",
       "3738       asia-southeast2     a2  a2-megagpu-16g             1           -1   \n",
       "3739           asia-south2     a2  a2-megagpu-16g             1           -1   \n",
       "\n",
       "      nested_virtualization  local_ssd cores  gpu               cpu  memory  \\\n",
       "3730                     -1          1    96    1  ['Cascade Lake']  1360.0   \n",
       "3731                     -1          1    96    1  ['Cascade Lake']  1360.0   \n",
       "3732                     -1          1    96    1  ['Cascade Lake']  1360.0   \n",
       "3733                     -1          1    96    1  ['Cascade Lake']  1360.0   \n",
       "3734                     -1          1    96    1  ['Cascade Lake']  1360.0   \n",
       "3735                     -1          1    96    1  ['Cascade Lake']  1360.0   \n",
       "3736                     -1          1    96    1  ['Cascade Lake']  1360.0   \n",
       "3737                     -1          1    96    1  ['Cascade Lake']  1360.0   \n",
       "3738                     -1          1    96    1  ['Cascade Lake']  1360.0   \n",
       "3739                     -1          1    96    1  ['Cascade Lake']  1360.0   \n",
       "\n",
       "     network_egress on demand price preemptible price  \n",
       "3730            100               0                 0  \n",
       "3731            100        10.85126           2.63909  \n",
       "3732            100        10.85126           2.63909  \n",
       "3733            100               0                 0  \n",
       "3734            100               0                 0  \n",
       "3735            100               0                 0  \n",
       "3736            100               0                 0  \n",
       "3737            100               0                 0  \n",
       "3738            100               0                 0  \n",
       "3739            100               0                 0  "
      ]
     },
     "execution_count": 13,
     "metadata": {},
     "output_type": "execute_result"
    }
   ],
   "source": [
    "gcp_compute_data.tail(10)"
   ]
  },
  {
   "cell_type": "code",
   "execution_count": 23,
   "id": "bd1e84da",
   "metadata": {},
   "outputs": [
    {
     "data": {
      "text/plain": [
       "array([\"['N/A']\",\n",
       "       \"['Skylake', 'Broadwell', 'Haswell', 'Sandy Bridge', 'Ivy Bridge']\",\n",
       "       \"['Cascade Lake']\", \"['AMD EPYC Rome']\",\n",
       "       \"['Skylake', 'Broadwell', 'Haswell', 'AMD EPYC Rome (coming soon)']\",\n",
       "       \"['Skylake', 'Broadwell E5']\", \"['Cascade Lake', 'Broadwell E7']\"],\n",
       "      dtype=object)"
      ]
     },
     "execution_count": 23,
     "metadata": {},
     "output_type": "execute_result"
    }
   ],
   "source": [
    "gcp_compute_data.cpu.unique()"
   ]
  },
  {
   "cell_type": "code",
   "execution_count": 18,
   "id": "242d1a01",
   "metadata": {},
   "outputs": [],
   "source": [
    "df_gcp = gcp_compute_data.copy()"
   ]
  },
  {
   "cell_type": "code",
   "execution_count": 34,
   "id": "80c28566",
   "metadata": {},
   "outputs": [
    {
     "data": {
      "text/plain": [
       "array(['f1', 'g1', 'n1', 'n2', 'n2d', 'e2', 'c2', 'm1', 'm2', 'a2'],\n",
       "      dtype=object)"
      ]
     },
     "execution_count": 34,
     "metadata": {},
     "output_type": "execute_result"
    }
   ],
   "source": [
    "df_gcp.family.unique()"
   ]
  },
  {
   "cell_type": "markdown",
   "id": "d805283d",
   "metadata": {},
   "source": [
    "#### Clock speed\n",
    "Based on: https://cloud.google.com/compute/docs/cpu-platforms\n",
    "Should probably process all clock speeds in GCP notebook and then merge here"
   ]
  },
  {
   "cell_type": "code",
   "execution_count": 27,
   "id": "4c2a7b92",
   "metadata": {},
   "outputs": [],
   "source": [
    "df_gcp['clock'] = 2.2"
   ]
  },
  {
   "cell_type": "code",
   "execution_count": 44,
   "id": "5d4e2fa8",
   "metadata": {},
   "outputs": [
    {
     "data": {
      "text/html": [
       "<div>\n",
       "<style scoped>\n",
       "    .dataframe tbody tr th:only-of-type {\n",
       "        vertical-align: middle;\n",
       "    }\n",
       "\n",
       "    .dataframe tbody tr th {\n",
       "        vertical-align: top;\n",
       "    }\n",
       "\n",
       "    .dataframe thead th {\n",
       "        text-align: right;\n",
       "    }\n",
       "</style>\n",
       "<table border=\"1\" class=\"dataframe\">\n",
       "  <thead>\n",
       "    <tr style=\"text-align: right;\">\n",
       "      <th></th>\n",
       "      <th>region</th>\n",
       "      <th>family</th>\n",
       "      <th>vm type</th>\n",
       "      <th>regional_disk</th>\n",
       "      <th>sole_tenant</th>\n",
       "      <th>nested_virtualization</th>\n",
       "      <th>local_ssd</th>\n",
       "      <th>cores</th>\n",
       "      <th>gpu</th>\n",
       "      <th>cpu</th>\n",
       "      <th>memory</th>\n",
       "      <th>network_egress</th>\n",
       "      <th>on demand price</th>\n",
       "      <th>preemptible price</th>\n",
       "      <th>clock</th>\n",
       "    </tr>\n",
       "  </thead>\n",
       "  <tbody>\n",
       "    <tr>\n",
       "      <th>3196</th>\n",
       "      <td>us</td>\n",
       "      <td>c2</td>\n",
       "      <td>c2-standard-4</td>\n",
       "      <td>0</td>\n",
       "      <td>-1</td>\n",
       "      <td>-1</td>\n",
       "      <td>1</td>\n",
       "      <td>4</td>\n",
       "      <td>0</td>\n",
       "      <td>['Cascade Lake']</td>\n",
       "      <td>16.0</td>\n",
       "      <td>10</td>\n",
       "      <td>0.20873</td>\n",
       "      <td>0.05052</td>\n",
       "      <td>2.8</td>\n",
       "    </tr>\n",
       "    <tr>\n",
       "      <th>3197</th>\n",
       "      <td>us-central1</td>\n",
       "      <td>c2</td>\n",
       "      <td>c2-standard-4</td>\n",
       "      <td>0</td>\n",
       "      <td>-1</td>\n",
       "      <td>-1</td>\n",
       "      <td>1</td>\n",
       "      <td>4</td>\n",
       "      <td>0</td>\n",
       "      <td>['Cascade Lake']</td>\n",
       "      <td>16.0</td>\n",
       "      <td>10</td>\n",
       "      <td>0.20873</td>\n",
       "      <td>0.05052</td>\n",
       "      <td>2.8</td>\n",
       "    </tr>\n",
       "    <tr>\n",
       "      <th>3198</th>\n",
       "      <td>us-east1</td>\n",
       "      <td>c2</td>\n",
       "      <td>c2-standard-4</td>\n",
       "      <td>0</td>\n",
       "      <td>-1</td>\n",
       "      <td>-1</td>\n",
       "      <td>1</td>\n",
       "      <td>4</td>\n",
       "      <td>0</td>\n",
       "      <td>['Cascade Lake']</td>\n",
       "      <td>16.0</td>\n",
       "      <td>10</td>\n",
       "      <td>0.20881</td>\n",
       "      <td>0.05052</td>\n",
       "      <td>2.8</td>\n",
       "    </tr>\n",
       "    <tr>\n",
       "      <th>3199</th>\n",
       "      <td>us-east4</td>\n",
       "      <td>c2</td>\n",
       "      <td>c2-standard-4</td>\n",
       "      <td>0</td>\n",
       "      <td>-1</td>\n",
       "      <td>-1</td>\n",
       "      <td>1</td>\n",
       "      <td>4</td>\n",
       "      <td>0</td>\n",
       "      <td>['Cascade Lake']</td>\n",
       "      <td>16.0</td>\n",
       "      <td>10</td>\n",
       "      <td>0.23516</td>\n",
       "      <td>0.05406</td>\n",
       "      <td>2.8</td>\n",
       "    </tr>\n",
       "    <tr>\n",
       "      <th>3200</th>\n",
       "      <td>us-west4</td>\n",
       "      <td>c2</td>\n",
       "      <td>c2-standard-4</td>\n",
       "      <td>0</td>\n",
       "      <td>-1</td>\n",
       "      <td>-1</td>\n",
       "      <td>1</td>\n",
       "      <td>4</td>\n",
       "      <td>0</td>\n",
       "      <td>['Cascade Lake']</td>\n",
       "      <td>16.0</td>\n",
       "      <td>10</td>\n",
       "      <td>0.23516</td>\n",
       "      <td>0.05406</td>\n",
       "      <td>2.8</td>\n",
       "    </tr>\n",
       "    <tr>\n",
       "      <th>...</th>\n",
       "      <td>...</td>\n",
       "      <td>...</td>\n",
       "      <td>...</td>\n",
       "      <td>...</td>\n",
       "      <td>...</td>\n",
       "      <td>...</td>\n",
       "      <td>...</td>\n",
       "      <td>...</td>\n",
       "      <td>...</td>\n",
       "      <td>...</td>\n",
       "      <td>...</td>\n",
       "      <td>...</td>\n",
       "      <td>...</td>\n",
       "      <td>...</td>\n",
       "      <td>...</td>\n",
       "    </tr>\n",
       "    <tr>\n",
       "      <th>3361</th>\n",
       "      <td>australia</td>\n",
       "      <td>c2</td>\n",
       "      <td>c2-standard-60</td>\n",
       "      <td>0</td>\n",
       "      <td>-1</td>\n",
       "      <td>-1</td>\n",
       "      <td>1</td>\n",
       "      <td>60</td>\n",
       "      <td>0</td>\n",
       "      <td>['Cascade Lake']</td>\n",
       "      <td>240.0</td>\n",
       "      <td>32</td>\n",
       "      <td>4.44408</td>\n",
       "      <td>1.02168</td>\n",
       "      <td>2.8</td>\n",
       "    </tr>\n",
       "    <tr>\n",
       "      <th>3362</th>\n",
       "      <td>southamerica-east1</td>\n",
       "      <td>c2</td>\n",
       "      <td>c2-standard-60</td>\n",
       "      <td>0</td>\n",
       "      <td>-1</td>\n",
       "      <td>-1</td>\n",
       "      <td>1</td>\n",
       "      <td>60</td>\n",
       "      <td>0</td>\n",
       "      <td>['Cascade Lake']</td>\n",
       "      <td>240.0</td>\n",
       "      <td>32</td>\n",
       "      <td>4.9716</td>\n",
       "      <td>1.1433</td>\n",
       "      <td>2.8</td>\n",
       "    </tr>\n",
       "    <tr>\n",
       "      <th>3363</th>\n",
       "      <td>asia-south1</td>\n",
       "      <td>c2</td>\n",
       "      <td>c2-standard-60</td>\n",
       "      <td>0</td>\n",
       "      <td>-1</td>\n",
       "      <td>-1</td>\n",
       "      <td>1</td>\n",
       "      <td>60</td>\n",
       "      <td>0</td>\n",
       "      <td>['Cascade Lake']</td>\n",
       "      <td>240.0</td>\n",
       "      <td>32</td>\n",
       "      <td>3.76188</td>\n",
       "      <td>0.9117</td>\n",
       "      <td>2.8</td>\n",
       "    </tr>\n",
       "    <tr>\n",
       "      <th>3364</th>\n",
       "      <td>asia-southeast2</td>\n",
       "      <td>c2</td>\n",
       "      <td>c2-standard-60</td>\n",
       "      <td>0</td>\n",
       "      <td>-1</td>\n",
       "      <td>-1</td>\n",
       "      <td>1</td>\n",
       "      <td>60</td>\n",
       "      <td>0</td>\n",
       "      <td>['Cascade Lake']</td>\n",
       "      <td>240.0</td>\n",
       "      <td>32</td>\n",
       "      <td>1.46967</td>\n",
       "      <td>0.96805</td>\n",
       "      <td>2.8</td>\n",
       "    </tr>\n",
       "    <tr>\n",
       "      <th>3365</th>\n",
       "      <td>asia-south2</td>\n",
       "      <td>c2</td>\n",
       "      <td>c2-standard-60</td>\n",
       "      <td>0</td>\n",
       "      <td>-1</td>\n",
       "      <td>-1</td>\n",
       "      <td>1</td>\n",
       "      <td>60</td>\n",
       "      <td>0</td>\n",
       "      <td>['Cascade Lake']</td>\n",
       "      <td>240.0</td>\n",
       "      <td>32</td>\n",
       "      <td>3.76188</td>\n",
       "      <td>0.9117</td>\n",
       "      <td>2.8</td>\n",
       "    </tr>\n",
       "  </tbody>\n",
       "</table>\n",
       "<p>170 rows × 15 columns</p>\n",
       "</div>"
      ],
      "text/plain": [
       "                  region family         vm type regional_disk  sole_tenant  \\\n",
       "3196                  us     c2   c2-standard-4             0           -1   \n",
       "3197         us-central1     c2   c2-standard-4             0           -1   \n",
       "3198            us-east1     c2   c2-standard-4             0           -1   \n",
       "3199            us-east4     c2   c2-standard-4             0           -1   \n",
       "3200            us-west4     c2   c2-standard-4             0           -1   \n",
       "...                  ...    ...             ...           ...          ...   \n",
       "3361           australia     c2  c2-standard-60             0           -1   \n",
       "3362  southamerica-east1     c2  c2-standard-60             0           -1   \n",
       "3363         asia-south1     c2  c2-standard-60             0           -1   \n",
       "3364     asia-southeast2     c2  c2-standard-60             0           -1   \n",
       "3365         asia-south2     c2  c2-standard-60             0           -1   \n",
       "\n",
       "      nested_virtualization  local_ssd cores  gpu               cpu  memory  \\\n",
       "3196                     -1          1     4    0  ['Cascade Lake']    16.0   \n",
       "3197                     -1          1     4    0  ['Cascade Lake']    16.0   \n",
       "3198                     -1          1     4    0  ['Cascade Lake']    16.0   \n",
       "3199                     -1          1     4    0  ['Cascade Lake']    16.0   \n",
       "3200                     -1          1     4    0  ['Cascade Lake']    16.0   \n",
       "...                     ...        ...   ...  ...               ...     ...   \n",
       "3361                     -1          1    60    0  ['Cascade Lake']   240.0   \n",
       "3362                     -1          1    60    0  ['Cascade Lake']   240.0   \n",
       "3363                     -1          1    60    0  ['Cascade Lake']   240.0   \n",
       "3364                     -1          1    60    0  ['Cascade Lake']   240.0   \n",
       "3365                     -1          1    60    0  ['Cascade Lake']   240.0   \n",
       "\n",
       "     network_egress on demand price preemptible price  clock  \n",
       "3196             10         0.20873           0.05052    2.8  \n",
       "3197             10         0.20873           0.05052    2.8  \n",
       "3198             10         0.20881           0.05052    2.8  \n",
       "3199             10         0.23516           0.05406    2.8  \n",
       "3200             10         0.23516           0.05406    2.8  \n",
       "...             ...             ...               ...    ...  \n",
       "3361             32         4.44408           1.02168    2.8  \n",
       "3362             32          4.9716            1.1433    2.8  \n",
       "3363             32         3.76188            0.9117    2.8  \n",
       "3364             32         1.46967           0.96805    2.8  \n",
       "3365             32         3.76188            0.9117    2.8  \n",
       "\n",
       "[170 rows x 15 columns]"
      ]
     },
     "execution_count": 44,
     "metadata": {},
     "output_type": "execute_result"
    }
   ],
   "source": [
    "df_gcp[(df_gcp.cpu == \"['Cascade Lake']\") & (df_gcp.family == 'c2')]"
   ]
  },
  {
   "cell_type": "code",
   "execution_count": 45,
   "id": "5e65a878",
   "metadata": {},
   "outputs": [],
   "source": [
    "df_gcp.loc[(df_gcp.cpu == \"['Cascade Lake']\") & (df_gcp.family == 'c2'),'clock'] = 3.1"
   ]
  },
  {
   "cell_type": "code",
   "execution_count": 29,
   "id": "8dcb0e1d",
   "metadata": {},
   "outputs": [
    {
     "data": {
      "text/plain": [
       "array([2.2, 2.8])"
      ]
     },
     "execution_count": 29,
     "metadata": {},
     "output_type": "execute_result"
    }
   ],
   "source": [
    "df_gcp.clock.unique()"
   ]
  },
  {
   "cell_type": "markdown",
   "id": "a90bcc80",
   "metadata": {},
   "source": [
    "## Map Schemas"
   ]
  },
  {
   "cell_type": "code",
   "execution_count": null,
   "id": "f07ffdf5",
   "metadata": {},
   "outputs": [],
   "source": [
    "# Since a smaller set of data, I'm going to use AWS as the base\n",
    "df_aws = aws_compute_data_windows.drop(columns=['os'])\n",
    "df_aws['provider'] = 'AWS'"
   ]
  },
  {
   "cell_type": "code",
   "execution_count": null,
   "id": "1a7409fb",
   "metadata": {},
   "outputs": [],
   "source": [
    "df_aws.columns"
   ]
  },
  {
   "cell_type": "code",
   "execution_count": null,
   "id": "3d8f7e04",
   "metadata": {},
   "outputs": [],
   "source": [
    "azure_compute_data.columns"
   ]
  },
  {
   "cell_type": "code",
   "execution_count": null,
   "id": "a9987d91",
   "metadata": {},
   "outputs": [],
   "source": [
    "df_azure = azure_compute_data[['Machine Image','location','armSkuName','Purpose','vCPU(s)','Clock',\n",
    "                                     'RAM','Temporary storage','unitPrice','Single Customer']]"
   ]
  },
  {
   "cell_type": "code",
   "execution_count": null,
   "id": "3e47e49f",
   "metadata": {},
   "outputs": [],
   "source": [
    "df_azure = df_azure.rename(columns={\"Machine Image\": \"sku\", 'armSkuName':'instance_type',\n",
    "                                                'Purpose':'instance_family','vCPU(s)':'vcpu','Clock':'clock_speed',\n",
    "                                               'RAM':'memory','Temporary storage':'storage',\n",
    "                                               'Single Customer':'tenancy', 'unitPrice':'price'})\n",
    "df_azure['provider'] = 'Azure'"
   ]
  },
  {
   "cell_type": "code",
   "execution_count": null,
   "id": "b55e73f5",
   "metadata": {},
   "outputs": [],
   "source": [
    "df_azure"
   ]
  },
  {
   "cell_type": "markdown",
   "id": "0f22d836",
   "metadata": {},
   "source": [
    "## Align Values"
   ]
  },
  {
   "cell_type": "code",
   "execution_count": null,
   "id": "9f4c4e9b",
   "metadata": {},
   "outputs": [],
   "source": [
    "def compare_col_vals(df1, df2, col_name):\n",
    "    d1_u = df1[col_name].unique()\n",
    "    d2_u = df2[col_name].unique()\n",
    "    \n",
    "    for item in d1_u:\n",
    "        if not any([x in item for x in d2_u]):\n",
    "            print (\"{} mismatched\".format(item))\n"
   ]
  },
  {
   "cell_type": "markdown",
   "id": "18f312a1",
   "metadata": {},
   "source": [
    "### Instance Family"
   ]
  },
  {
   "cell_type": "code",
   "execution_count": null,
   "id": "861f3e59",
   "metadata": {},
   "outputs": [],
   "source": [
    "aws_instances = df_aws['instance_family'].unique()\n",
    "aws_instances"
   ]
  },
  {
   "cell_type": "code",
   "execution_count": null,
   "id": "4a3e389d",
   "metadata": {},
   "outputs": [],
   "source": [
    "df_aws = df_aws.dropna(subset=['instance_family'])"
   ]
  },
  {
   "cell_type": "code",
   "execution_count": null,
   "id": "0baa67de",
   "metadata": {},
   "outputs": [],
   "source": [
    "azure_instances = df_azure['instance_family'].unique()\n",
    "azure_instances"
   ]
  },
  {
   "cell_type": "code",
   "execution_count": null,
   "id": "8ecc5bec",
   "metadata": {},
   "outputs": [],
   "source": [
    "compare_col_vals(df_aws,df_azure,'instance_family')"
   ]
  },
  {
   "cell_type": "code",
   "execution_count": null,
   "id": "74f66914",
   "metadata": {},
   "outputs": [],
   "source": [
    "#df_azure[df_azure['instance_family'].isnull()] = 'General purpose' # need to reload data\n",
    "df_aws.loc[df_aws['instance_family']     == 'FPGA Instances'   , 'instance_family'] = 'High Performance'\n",
    "df_aws.loc[df_aws['instance_family']     == 'GPU instance'     , 'instance_family'] = 'GPU optimized'\n",
    "df_azure.loc[df_azure['instance_family'] == 'GPU Optimized'    , 'instance_family'] = 'GPU optimized'\n",
    "df_azure.loc[df_azure['instance_family'] == 'Storage Optimized', 'instance_family'] = 'Storage optimized'\n",
    "df_azure.loc[df_azure['instance_family'] == 'General'          , 'instance_family'] = 'General purpose'\n",
    "\n",
    "df_aws = df_aws[df_aws['instance_family'] != 'Micro instances']"
   ]
  },
  {
   "cell_type": "code",
   "execution_count": null,
   "id": "c980bfe1",
   "metadata": {},
   "outputs": [],
   "source": [
    "compare_col_vals(df_aws,df_azure,'instance_family')"
   ]
  },
  {
   "cell_type": "markdown",
   "id": "e273a9d4",
   "metadata": {},
   "source": [
    "### vcpu"
   ]
  },
  {
   "cell_type": "code",
   "execution_count": null,
   "id": "e1d3dc96",
   "metadata": {},
   "outputs": [],
   "source": [
    "#compare_col_vals(df_aws, df_azure,'vcpu')\n",
    "\n",
    "col = 'vcpu'\n",
    "aws_u = df_aws[col].unique()\n",
    "aws_u"
   ]
  },
  {
   "cell_type": "code",
   "execution_count": null,
   "id": "e45d9bf5",
   "metadata": {},
   "outputs": [],
   "source": [
    "azu_u = df_azure[col].unique()\n",
    "azu_u"
   ]
  },
  {
   "cell_type": "code",
   "execution_count": null,
   "id": "9d3b5dd4",
   "metadata": {},
   "outputs": [],
   "source": []
  },
  {
   "cell_type": "markdown",
   "id": "8aaf1c1d",
   "metadata": {},
   "source": [
    "### clock_speed"
   ]
  },
  {
   "cell_type": "code",
   "execution_count": null,
   "id": "bc7053ca",
   "metadata": {},
   "outputs": [],
   "source": [
    "#compare_col_vals(df_aws,df_azure,'clock_speed')"
   ]
  },
  {
   "cell_type": "code",
   "execution_count": null,
   "id": "9e144f5c",
   "metadata": {},
   "outputs": [],
   "source": [
    "col = 'clock_speed'\n",
    "aws_u = df_aws[col].unique()\n",
    "aws_u"
   ]
  },
  {
   "cell_type": "code",
   "execution_count": null,
   "id": "a496d5b3",
   "metadata": {},
   "outputs": [],
   "source": [
    "azu_u = df_azure[col].unique()\n",
    "azu_u"
   ]
  },
  {
   "cell_type": "markdown",
   "id": "10d3b492",
   "metadata": {},
   "source": [
    "### memory"
   ]
  },
  {
   "cell_type": "code",
   "execution_count": null,
   "id": "c1c3a053",
   "metadata": {},
   "outputs": [],
   "source": [
    "compare_col_vals(df_aws,df_azure,'memory')"
   ]
  },
  {
   "cell_type": "code",
   "execution_count": null,
   "id": "d77c8b61",
   "metadata": {},
   "outputs": [],
   "source": [
    "col = 'memory'\n",
    "aws_u = df_aws[col].unique()\n",
    "aws_u"
   ]
  },
  {
   "cell_type": "code",
   "execution_count": null,
   "id": "ef00f863",
   "metadata": {},
   "outputs": [],
   "source": [
    "azu_u = df_azure[col].unique()\n",
    "azu_u"
   ]
  },
  {
   "cell_type": "markdown",
   "id": "d7ba0289",
   "metadata": {},
   "source": [
    "### storage"
   ]
  },
  {
   "cell_type": "code",
   "execution_count": null,
   "id": "80c627c7",
   "metadata": {},
   "outputs": [],
   "source": [
    "col = 'storage'\n",
    "aws_u = df_aws[col].unique()\n",
    "aws_u"
   ]
  },
  {
   "cell_type": "code",
   "execution_count": null,
   "id": "69ea43bc",
   "metadata": {},
   "outputs": [],
   "source": [
    "azu_u = df_azure[col].unique()\n",
    "azu_u"
   ]
  },
  {
   "cell_type": "markdown",
   "id": "af822ae2",
   "metadata": {},
   "source": [
    "### tenancy"
   ]
  },
  {
   "cell_type": "code",
   "execution_count": null,
   "id": "168f0aab",
   "metadata": {},
   "outputs": [],
   "source": [
    "col = 'tenancy'\n",
    "aws_u = df_aws[col].unique()\n",
    "aws_u"
   ]
  },
  {
   "cell_type": "code",
   "execution_count": null,
   "id": "bb7ebeee",
   "metadata": {},
   "outputs": [],
   "source": [
    "azu_u = df_azure[col].unique()\n",
    "azu_u"
   ]
  },
  {
   "cell_type": "code",
   "execution_count": null,
   "id": "c5d4900b",
   "metadata": {},
   "outputs": [],
   "source": [
    "df_azure.loc[df_azure[col]==False, col] = 'Shared'\n",
    "df_azure.loc[df_azure[col]==True, col] = 'Dedicated'"
   ]
  },
  {
   "cell_type": "code",
   "execution_count": null,
   "id": "aed85d5e",
   "metadata": {},
   "outputs": [],
   "source": [
    "azu_u = df_azure[col].unique()\n",
    "azu_u"
   ]
  },
  {
   "cell_type": "code",
   "execution_count": null,
   "id": "923e2056",
   "metadata": {},
   "outputs": [],
   "source": [
    "df_azure[df_azure[col]=='Dedicated']"
   ]
  },
  {
   "cell_type": "markdown",
   "id": "31a73f7f",
   "metadata": {},
   "source": [
    "### price"
   ]
  },
  {
   "cell_type": "code",
   "execution_count": null,
   "id": "7e7972bd",
   "metadata": {},
   "outputs": [],
   "source": [
    "col = 'price'\n",
    "aws_u = df_aws[col].unique()\n",
    "aws_u"
   ]
  },
  {
   "cell_type": "code",
   "execution_count": null,
   "id": "3d29043a",
   "metadata": {},
   "outputs": [],
   "source": [
    "azu_u = df_azure[col].unique()\n",
    "azu_u"
   ]
  },
  {
   "cell_type": "code",
   "execution_count": null,
   "id": "60b9e678",
   "metadata": {},
   "outputs": [],
   "source": [
    "# Good enough.."
   ]
  },
  {
   "cell_type": "markdown",
   "id": "ab379766",
   "metadata": {},
   "source": [
    "## Merge AWS and Azure dataframes"
   ]
  },
  {
   "cell_type": "code",
   "execution_count": null,
   "id": "e50ff00c",
   "metadata": {},
   "outputs": [],
   "source": [
    "df_merged =  df_aws.append(df_azure)\n",
    "df_merged.reset_index(drop=True, inplace=True)"
   ]
  },
  {
   "cell_type": "code",
   "execution_count": null,
   "id": "c26bc14f",
   "metadata": {},
   "outputs": [],
   "source": [
    "df_merged"
   ]
  },
  {
   "cell_type": "code",
   "execution_count": null,
   "id": "44e2ba77",
   "metadata": {},
   "outputs": [],
   "source": [
    "df_merged.to_pickle('./data/all.merged.compute.xz.pkl', compression='xz')"
   ]
  },
  {
   "cell_type": "code",
   "execution_count": null,
   "id": "d8786830",
   "metadata": {},
   "outputs": [],
   "source": [
    "df_merged.to_csv('./data/all.merged.csv')"
   ]
  },
  {
   "cell_type": "code",
   "execution_count": null,
   "id": "d42deeb3",
   "metadata": {},
   "outputs": [],
   "source": []
  }
 ],
 "metadata": {
  "kernelspec": {
   "display_name": "Python 3",
   "language": "python",
   "name": "python3"
  },
  "language_info": {
   "codemirror_mode": {
    "name": "ipython",
    "version": 3
   },
   "file_extension": ".py",
   "mimetype": "text/x-python",
   "name": "python",
   "nbconvert_exporter": "python",
   "pygments_lexer": "ipython3",
   "version": "3.7.10"
  }
 },
 "nbformat": 4,
 "nbformat_minor": 5
}
