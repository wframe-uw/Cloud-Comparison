{
 "cells": [
  {
   "cell_type": "code",
   "execution_count": 1,
   "id": "3b7c87e4",
   "metadata": {},
   "outputs": [],
   "source": [
    "import pandas as pd\n",
    "import numpy as np"
   ]
  },
  {
   "cell_type": "code",
   "execution_count": 2,
   "id": "f24ee94b",
   "metadata": {},
   "outputs": [],
   "source": [
    "# Azure\n",
    "azure_compute_src = './data/azure.merged.compute.xz.pkl' \n",
    "azure_compute_data = pd.read_pickle(azure_compute_src, compression=\"xz\")"
   ]
  },
  {
   "cell_type": "code",
   "execution_count": 3,
   "id": "640aae54",
   "metadata": {},
   "outputs": [],
   "source": [
    "# AWS\n",
    "aws_compute_src = './data/aws.src.compute.xz.pkl' # Kathy, please enter name of amazon data pickle file\n",
    "aws_compute_data = pd.read_pickle(aws_compute_src, compression=\"xz\")"
   ]
  },
  {
   "cell_type": "markdown",
   "id": "53245410",
   "metadata": {},
   "source": [
    "## Inspect AWS"
   ]
  },
  {
   "cell_type": "code",
   "execution_count": 4,
   "id": "07240b8c",
   "metadata": {},
   "outputs": [
    {
     "data": {
      "text/plain": [
       "Index(['sku', 'offercode', 'location', 'instance_type', 'instance_family',\n",
       "       'vcpu', 'clock_speed', 'memory', 'storage', 'network_performance',\n",
       "       'processor_architecture', 'tenancy', 'os', 'usagetype', 'operation',\n",
       "       'pd_key', 'price_description', 'unit', 'price'],\n",
       "      dtype='object')"
      ]
     },
     "execution_count": 4,
     "metadata": {},
     "output_type": "execute_result"
    }
   ],
   "source": [
    "aws_compute_data.columns"
   ]
  },
  {
   "cell_type": "code",
   "execution_count": 5,
   "id": "45ad9d50",
   "metadata": {},
   "outputs": [
    {
     "data": {
      "text/plain": [
       "0         $0.00 per Dedicated Reservation RHEL m4.10xlar...\n",
       "1         $0.00 per RHEL with HA and SQL Enterprise i3.8...\n",
       "2         $0.00 per Reservation RHEL c5a.large Instance ...\n",
       "3         $7.293 per On Demand Linux with SQL Web inf1.2...\n",
       "4         $7.234 per Unused Reservation RHEL with SQL We...\n",
       "                                ...                        \n",
       "505796    $2.046 per Unused Reservation Windows with SQL...\n",
       "505797    $0.00 per Dedicated Reservation RHEL with HA a...\n",
       "505798    $16.704 per On Demand Windows with SQL Server ...\n",
       "505799    $0.1784 per Unused Reservation RHEL r6g.large ...\n",
       "505800    $0.511 per Dedicated SUSE i3.xlarge Instance Hour\n",
       "Name: price_description, Length: 505801, dtype: object"
      ]
     },
     "execution_count": 5,
     "metadata": {},
     "output_type": "execute_result"
    }
   ],
   "source": [
    "aws_compute_data['price_description']"
   ]
  },
  {
   "cell_type": "code",
   "execution_count": 6,
   "id": "d9d07169",
   "metadata": {},
   "outputs": [],
   "source": [
    "aws_compute_data_trimmed = aws_compute_data.drop(columns=['offercode','processor_architecture','usagetype','operation',\n",
    "                                                          'pd_key','price_description','unit','network_performance'])"
   ]
  },
  {
   "cell_type": "code",
   "execution_count": 7,
   "id": "576bad1f",
   "metadata": {},
   "outputs": [
    {
     "data": {
      "text/plain": [
       "Index(['sku', 'location', 'instance_type', 'instance_family', 'vcpu',\n",
       "       'clock_speed', 'memory', 'storage', 'tenancy', 'os', 'price'],\n",
       "      dtype='object')"
      ]
     },
     "execution_count": 7,
     "metadata": {},
     "output_type": "execute_result"
    }
   ],
   "source": [
    "aws_compute_data_trimmed.columns"
   ]
  },
  {
   "cell_type": "code",
   "execution_count": 8,
   "id": "b71c1da1",
   "metadata": {},
   "outputs": [],
   "source": [
    "# windows only\n",
    "aws_compute_data_windows = aws_compute_data_trimmed[aws_compute_data_trimmed['os'] == 'Windows']"
   ]
  },
  {
   "cell_type": "code",
   "execution_count": 9,
   "id": "58b98f49",
   "metadata": {},
   "outputs": [
    {
     "data": {
      "text/html": [
       "<div>\n",
       "<style scoped>\n",
       "    .dataframe tbody tr th:only-of-type {\n",
       "        vertical-align: middle;\n",
       "    }\n",
       "\n",
       "    .dataframe tbody tr th {\n",
       "        vertical-align: top;\n",
       "    }\n",
       "\n",
       "    .dataframe thead th {\n",
       "        text-align: right;\n",
       "    }\n",
       "</style>\n",
       "<table border=\"1\" class=\"dataframe\">\n",
       "  <thead>\n",
       "    <tr style=\"text-align: right;\">\n",
       "      <th></th>\n",
       "      <th>sku</th>\n",
       "      <th>location</th>\n",
       "      <th>instance_type</th>\n",
       "      <th>instance_family</th>\n",
       "      <th>vcpu</th>\n",
       "      <th>clock_speed</th>\n",
       "      <th>memory</th>\n",
       "      <th>storage</th>\n",
       "      <th>tenancy</th>\n",
       "      <th>os</th>\n",
       "      <th>price</th>\n",
       "    </tr>\n",
       "  </thead>\n",
       "  <tbody>\n",
       "    <tr>\n",
       "      <th>7</th>\n",
       "      <td>FMEJYTPF3M8YDBYD</td>\n",
       "      <td>Asia Pacific (Osaka)</td>\n",
       "      <td>r3.8xlarge</td>\n",
       "      <td>Memory optimized</td>\n",
       "      <td>32.0</td>\n",
       "      <td>2.5 GHz</td>\n",
       "      <td>244 GiB</td>\n",
       "      <td>2 x 320 SSD</td>\n",
       "      <td>Host</td>\n",
       "      <td>Windows</td>\n",
       "      <td>0.000</td>\n",
       "    </tr>\n",
       "    <tr>\n",
       "      <th>8</th>\n",
       "      <td>B9QWBFQZHCY7X3HM</td>\n",
       "      <td>EU (Ireland)</td>\n",
       "      <td>r5ad.2xlarge</td>\n",
       "      <td>Memory optimized</td>\n",
       "      <td>8.0</td>\n",
       "      <td>2.5 GHz</td>\n",
       "      <td>64 GiB</td>\n",
       "      <td>1 x 300 NVMe SSD</td>\n",
       "      <td>Shared</td>\n",
       "      <td>Windows</td>\n",
       "      <td>0.000</td>\n",
       "    </tr>\n",
       "    <tr>\n",
       "      <th>11</th>\n",
       "      <td>SA8JPXVV8GR6B4XS</td>\n",
       "      <td>US West (Oregon)</td>\n",
       "      <td>g4dn.xlarge</td>\n",
       "      <td>GPU instance</td>\n",
       "      <td>4.0</td>\n",
       "      <td>2.5 GHz</td>\n",
       "      <td>16 GiB</td>\n",
       "      <td>125 GB NVMe SSD</td>\n",
       "      <td>Host</td>\n",
       "      <td>Windows</td>\n",
       "      <td>0.000</td>\n",
       "    </tr>\n",
       "    <tr>\n",
       "      <th>18</th>\n",
       "      <td>PGGUDD5Q3K4SP2K5</td>\n",
       "      <td>EU (Ireland)</td>\n",
       "      <td>g4ad.4xlarge</td>\n",
       "      <td>GPU instance</td>\n",
       "      <td>16.0</td>\n",
       "      <td>2.8 GHz</td>\n",
       "      <td>64 GiB</td>\n",
       "      <td>600 GB NVMe SSD</td>\n",
       "      <td>Shared</td>\n",
       "      <td>Windows</td>\n",
       "      <td>1.704</td>\n",
       "    </tr>\n",
       "    <tr>\n",
       "      <th>19</th>\n",
       "      <td>4CR6D9AX3JUCVGKK</td>\n",
       "      <td>EU (Ireland)</td>\n",
       "      <td>m1.large</td>\n",
       "      <td>General purpose</td>\n",
       "      <td>2.0</td>\n",
       "      <td>NaN</td>\n",
       "      <td>7.5 GiB</td>\n",
       "      <td>2 x 420 SSD</td>\n",
       "      <td>Shared</td>\n",
       "      <td>Windows</td>\n",
       "      <td>0.190</td>\n",
       "    </tr>\n",
       "  </tbody>\n",
       "</table>\n",
       "</div>"
      ],
      "text/plain": [
       "                 sku              location instance_type   instance_family  \\\n",
       "7   FMEJYTPF3M8YDBYD  Asia Pacific (Osaka)    r3.8xlarge  Memory optimized   \n",
       "8   B9QWBFQZHCY7X3HM          EU (Ireland)  r5ad.2xlarge  Memory optimized   \n",
       "11  SA8JPXVV8GR6B4XS      US West (Oregon)   g4dn.xlarge      GPU instance   \n",
       "18  PGGUDD5Q3K4SP2K5          EU (Ireland)  g4ad.4xlarge      GPU instance   \n",
       "19  4CR6D9AX3JUCVGKK          EU (Ireland)      m1.large   General purpose   \n",
       "\n",
       "    vcpu clock_speed   memory           storage tenancy       os  price  \n",
       "7   32.0     2.5 GHz  244 GiB       2 x 320 SSD    Host  Windows  0.000  \n",
       "8    8.0     2.5 GHz   64 GiB  1 x 300 NVMe SSD  Shared  Windows  0.000  \n",
       "11   4.0     2.5 GHz   16 GiB   125 GB NVMe SSD    Host  Windows  0.000  \n",
       "18  16.0     2.8 GHz   64 GiB   600 GB NVMe SSD  Shared  Windows  1.704  \n",
       "19   2.0         NaN  7.5 GiB       2 x 420 SSD  Shared  Windows  0.190  "
      ]
     },
     "execution_count": 9,
     "metadata": {},
     "output_type": "execute_result"
    }
   ],
   "source": [
    "aws_compute_data_windows.head()"
   ]
  },
  {
   "cell_type": "markdown",
   "id": "a90bcc80",
   "metadata": {},
   "source": [
    "## Map Schemas"
   ]
  },
  {
   "cell_type": "code",
   "execution_count": 10,
   "id": "f07ffdf5",
   "metadata": {},
   "outputs": [],
   "source": [
    "# Since a smaller set of data, I'm going to use AWS as the base\n",
    "df_aws = aws_compute_data_windows.drop(columns=['os'])\n",
    "df_aws['provider'] = 'AWS'"
   ]
  },
  {
   "cell_type": "code",
   "execution_count": 11,
   "id": "1a7409fb",
   "metadata": {},
   "outputs": [
    {
     "data": {
      "text/plain": [
       "Index(['sku', 'location', 'instance_type', 'instance_family', 'vcpu',\n",
       "       'clock_speed', 'memory', 'storage', 'tenancy', 'price', 'provider'],\n",
       "      dtype='object')"
      ]
     },
     "execution_count": 11,
     "metadata": {},
     "output_type": "execute_result"
    }
   ],
   "source": [
    "df_aws.columns"
   ]
  },
  {
   "cell_type": "code",
   "execution_count": 12,
   "id": "3d8f7e04",
   "metadata": {},
   "outputs": [
    {
     "data": {
      "text/plain": [
       "Index(['currencyCode', 'tierMinimumUnits', 'retailPrice', 'unitPrice',\n",
       "       'armRegionName', 'location', 'effectiveStartDate', 'meterId',\n",
       "       'meterName', 'productId', 'skuId', 'productName', 'skuName',\n",
       "       'serviceName', 'serviceId', 'serviceFamily', 'unitOfMeasure', 'type',\n",
       "       'isPrimaryMeterRegion', 'armSkuName', 'effectiveEndDate',\n",
       "       'reservationTerm', 'Instance', 'vCPU(s)', 'RAM', 'Temporary storage',\n",
       "       'Supports Premium SSD Storage', 'Clock', 'Burst', 'Purpose',\n",
       "       'Single Customer', 'Constrained CPU', 'NVMe Disk', 'GPU', 'GPU Model',\n",
       "       'NVIDIA GRID Supported', 'Machine Image'],\n",
       "      dtype='object')"
      ]
     },
     "execution_count": 12,
     "metadata": {},
     "output_type": "execute_result"
    }
   ],
   "source": [
    "azure_compute_data.columns"
   ]
  },
  {
   "cell_type": "code",
   "execution_count": 13,
   "id": "a9987d91",
   "metadata": {},
   "outputs": [],
   "source": [
    "df_azure = azure_compute_data[['Machine Image','location','armSkuName','Purpose','vCPU(s)','Clock',\n",
    "                                     'RAM','Temporary storage','unitPrice','Single Customer']]"
   ]
  },
  {
   "cell_type": "code",
   "execution_count": 14,
   "id": "3e47e49f",
   "metadata": {},
   "outputs": [],
   "source": [
    "df_azure = df_azure.rename(columns={\"Machine Image\": \"sku\", 'armSkuName':'instance_type',\n",
    "                                                'Purpose':'instance_family','vCPU(s)':'vcpu','Clock':'clock_speed',\n",
    "                                               'RAM':'memory','Temporary storage':'storage',\n",
    "                                               'Single Customer':'tenancy', 'unitPrice':'price'})\n",
    "df_azure['provider'] = 'Azure'"
   ]
  },
  {
   "cell_type": "code",
   "execution_count": 15,
   "id": "b55e73f5",
   "metadata": {},
   "outputs": [
    {
     "data": {
      "text/html": [
       "<div>\n",
       "<style scoped>\n",
       "    .dataframe tbody tr th:only-of-type {\n",
       "        vertical-align: middle;\n",
       "    }\n",
       "\n",
       "    .dataframe tbody tr th {\n",
       "        vertical-align: top;\n",
       "    }\n",
       "\n",
       "    .dataframe thead th {\n",
       "        text-align: right;\n",
       "    }\n",
       "</style>\n",
       "<table border=\"1\" class=\"dataframe\">\n",
       "  <thead>\n",
       "    <tr style=\"text-align: right;\">\n",
       "      <th></th>\n",
       "      <th>sku</th>\n",
       "      <th>location</th>\n",
       "      <th>instance_type</th>\n",
       "      <th>instance_family</th>\n",
       "      <th>vcpu</th>\n",
       "      <th>clock_speed</th>\n",
       "      <th>memory</th>\n",
       "      <th>storage</th>\n",
       "      <th>price</th>\n",
       "      <th>tenancy</th>\n",
       "      <th>provider</th>\n",
       "    </tr>\n",
       "  </thead>\n",
       "  <tbody>\n",
       "    <tr>\n",
       "      <th>0</th>\n",
       "      <td>DS14 v2</td>\n",
       "      <td>US North Central</td>\n",
       "      <td>Standard_DS14_v2_Promo</td>\n",
       "      <td>Memory</td>\n",
       "      <td>16</td>\n",
       "      <td>2.1</td>\n",
       "      <td>112 GiB</td>\n",
       "      <td>224 GiB</td>\n",
       "      <td>1.482</td>\n",
       "      <td>False</td>\n",
       "      <td>Azure</td>\n",
       "    </tr>\n",
       "    <tr>\n",
       "      <th>1</th>\n",
       "      <td>DS14 v2</td>\n",
       "      <td>NO West</td>\n",
       "      <td>Standard_DS14_v2</td>\n",
       "      <td>Memory</td>\n",
       "      <td>16</td>\n",
       "      <td>2.1</td>\n",
       "      <td>112 GiB</td>\n",
       "      <td>224 GiB</td>\n",
       "      <td>2.171</td>\n",
       "      <td>False</td>\n",
       "      <td>Azure</td>\n",
       "    </tr>\n",
       "    <tr>\n",
       "      <th>2</th>\n",
       "      <td>DS14 v2</td>\n",
       "      <td>NO West</td>\n",
       "      <td>Standard_DS14_v2</td>\n",
       "      <td>Memory</td>\n",
       "      <td>16</td>\n",
       "      <td>2.1</td>\n",
       "      <td>112 GiB</td>\n",
       "      <td>224 GiB</td>\n",
       "      <td>2.907</td>\n",
       "      <td>False</td>\n",
       "      <td>Azure</td>\n",
       "    </tr>\n",
       "    <tr>\n",
       "      <th>3</th>\n",
       "      <td>DS14 v2</td>\n",
       "      <td>CH North</td>\n",
       "      <td>Standard_DS14_v2</td>\n",
       "      <td>Memory</td>\n",
       "      <td>16</td>\n",
       "      <td>2.1</td>\n",
       "      <td>112 GiB</td>\n",
       "      <td>224 GiB</td>\n",
       "      <td>1.824</td>\n",
       "      <td>False</td>\n",
       "      <td>Azure</td>\n",
       "    </tr>\n",
       "    <tr>\n",
       "      <th>4</th>\n",
       "      <td>DS14 v2</td>\n",
       "      <td>CH North</td>\n",
       "      <td>Standard_DS14_v2</td>\n",
       "      <td>Memory</td>\n",
       "      <td>16</td>\n",
       "      <td>2.1</td>\n",
       "      <td>112 GiB</td>\n",
       "      <td>224 GiB</td>\n",
       "      <td>9376.000</td>\n",
       "      <td>False</td>\n",
       "      <td>Azure</td>\n",
       "    </tr>\n",
       "    <tr>\n",
       "      <th>...</th>\n",
       "      <td>...</td>\n",
       "      <td>...</td>\n",
       "      <td>...</td>\n",
       "      <td>...</td>\n",
       "      <td>...</td>\n",
       "      <td>...</td>\n",
       "      <td>...</td>\n",
       "      <td>...</td>\n",
       "      <td>...</td>\n",
       "      <td>...</td>\n",
       "      <td>...</td>\n",
       "    </tr>\n",
       "    <tr>\n",
       "      <th>59058</th>\n",
       "      <td>ND40rs v2</td>\n",
       "      <td>US West 2</td>\n",
       "      <td>Standard_ND40rs_v2</td>\n",
       "      <td>GPU Optimized</td>\n",
       "      <td>40</td>\n",
       "      <td>NaN</td>\n",
       "      <td>672 GiB</td>\n",
       "      <td>2,900 GiB</td>\n",
       "      <td>22.032</td>\n",
       "      <td>False</td>\n",
       "      <td>Azure</td>\n",
       "    </tr>\n",
       "    <tr>\n",
       "      <th>59059</th>\n",
       "      <td>ND40rs v2</td>\n",
       "      <td>US South Central</td>\n",
       "      <td>Standard_ND40rs_v2</td>\n",
       "      <td>GPU Optimized</td>\n",
       "      <td>40</td>\n",
       "      <td>NaN</td>\n",
       "      <td>672 GiB</td>\n",
       "      <td>2,900 GiB</td>\n",
       "      <td>28.278</td>\n",
       "      <td>False</td>\n",
       "      <td>Azure</td>\n",
       "    </tr>\n",
       "    <tr>\n",
       "      <th>59060</th>\n",
       "      <td>ND40rs v2</td>\n",
       "      <td>US South Central</td>\n",
       "      <td>Standard_ND40rs_v2</td>\n",
       "      <td>GPU Optimized</td>\n",
       "      <td>40</td>\n",
       "      <td>NaN</td>\n",
       "      <td>672 GiB</td>\n",
       "      <td>2,900 GiB</td>\n",
       "      <td>26.438</td>\n",
       "      <td>False</td>\n",
       "      <td>Azure</td>\n",
       "    </tr>\n",
       "    <tr>\n",
       "      <th>59061</th>\n",
       "      <td>ND40rs v2</td>\n",
       "      <td>EU West</td>\n",
       "      <td>Standard_ND40rs_v2</td>\n",
       "      <td>GPU Optimized</td>\n",
       "      <td>40</td>\n",
       "      <td>NaN</td>\n",
       "      <td>672 GiB</td>\n",
       "      <td>2,900 GiB</td>\n",
       "      <td>27.526</td>\n",
       "      <td>False</td>\n",
       "      <td>Azure</td>\n",
       "    </tr>\n",
       "    <tr>\n",
       "      <th>59062</th>\n",
       "      <td>ND40rs v2</td>\n",
       "      <td>EU West</td>\n",
       "      <td>Standard_ND40rs_v2</td>\n",
       "      <td>GPU Optimized</td>\n",
       "      <td>40</td>\n",
       "      <td>NaN</td>\n",
       "      <td>672 GiB</td>\n",
       "      <td>2,900 GiB</td>\n",
       "      <td>118152.000</td>\n",
       "      <td>False</td>\n",
       "      <td>Azure</td>\n",
       "    </tr>\n",
       "  </tbody>\n",
       "</table>\n",
       "<p>59063 rows × 11 columns</p>\n",
       "</div>"
      ],
      "text/plain": [
       "             sku          location           instance_type instance_family  \\\n",
       "0        DS14 v2  US North Central  Standard_DS14_v2_Promo          Memory   \n",
       "1        DS14 v2           NO West        Standard_DS14_v2          Memory   \n",
       "2        DS14 v2           NO West        Standard_DS14_v2          Memory   \n",
       "3        DS14 v2          CH North        Standard_DS14_v2          Memory   \n",
       "4        DS14 v2          CH North        Standard_DS14_v2          Memory   \n",
       "...          ...               ...                     ...             ...   \n",
       "59058  ND40rs v2         US West 2      Standard_ND40rs_v2   GPU Optimized   \n",
       "59059  ND40rs v2  US South Central      Standard_ND40rs_v2   GPU Optimized   \n",
       "59060  ND40rs v2  US South Central      Standard_ND40rs_v2   GPU Optimized   \n",
       "59061  ND40rs v2           EU West      Standard_ND40rs_v2   GPU Optimized   \n",
       "59062  ND40rs v2           EU West      Standard_ND40rs_v2   GPU Optimized   \n",
       "\n",
       "      vcpu  clock_speed   memory    storage       price  tenancy provider  \n",
       "0       16          2.1  112 GiB    224 GiB       1.482    False    Azure  \n",
       "1       16          2.1  112 GiB    224 GiB       2.171    False    Azure  \n",
       "2       16          2.1  112 GiB    224 GiB       2.907    False    Azure  \n",
       "3       16          2.1  112 GiB    224 GiB       1.824    False    Azure  \n",
       "4       16          2.1  112 GiB    224 GiB    9376.000    False    Azure  \n",
       "...    ...          ...      ...        ...         ...      ...      ...  \n",
       "59058   40          NaN  672 GiB  2,900 GiB      22.032    False    Azure  \n",
       "59059   40          NaN  672 GiB  2,900 GiB      28.278    False    Azure  \n",
       "59060   40          NaN  672 GiB  2,900 GiB      26.438    False    Azure  \n",
       "59061   40          NaN  672 GiB  2,900 GiB      27.526    False    Azure  \n",
       "59062   40          NaN  672 GiB  2,900 GiB  118152.000    False    Azure  \n",
       "\n",
       "[59063 rows x 11 columns]"
      ]
     },
     "execution_count": 15,
     "metadata": {},
     "output_type": "execute_result"
    }
   ],
   "source": [
    "df_azure"
   ]
  },
  {
   "cell_type": "markdown",
   "id": "b8c67f82",
   "metadata": {},
   "source": [
    "## Align Values"
   ]
  },
  {
   "cell_type": "code",
   "execution_count": 16,
   "id": "38e9b84b",
   "metadata": {},
   "outputs": [],
   "source": [
    "def compare_col_vals(df1, df2, col_name):\n",
    "    d1_u = df1[col_name].unique()\n",
    "    d2_u = df2[col_name].unique()\n",
    "    \n",
    "    for item in d1_u:\n",
    "        if not any([x in item for x in d2_u]):\n",
    "            print (\"{} mismatched\".format(item))\n"
   ]
  },
  {
   "cell_type": "markdown",
   "id": "4c45b03a",
   "metadata": {},
   "source": [
    "### Instance Family"
   ]
  },
  {
   "cell_type": "code",
   "execution_count": 17,
   "id": "6e49fdc3",
   "metadata": {},
   "outputs": [
    {
     "data": {
      "text/plain": [
       "array(['Memory optimized', 'GPU instance', 'General purpose',\n",
       "       'Compute optimized', 'Storage optimized', nan, 'Micro instances',\n",
       "       'FPGA Instances'], dtype=object)"
      ]
     },
     "execution_count": 17,
     "metadata": {},
     "output_type": "execute_result"
    }
   ],
   "source": [
    "aws_instances = df_aws['instance_family'].unique()\n",
    "aws_instances"
   ]
  },
  {
   "cell_type": "code",
   "execution_count": 18,
   "id": "c3162472",
   "metadata": {},
   "outputs": [],
   "source": [
    "df_aws = df_aws.dropna(subset=['instance_family'])"
   ]
  },
  {
   "cell_type": "code",
   "execution_count": 19,
   "id": "03d10af3",
   "metadata": {},
   "outputs": [
    {
     "data": {
      "text/plain": [
       "array(['Memory', 'General', 'High Performance', 'Compute',\n",
       "       'GPU Optimized', 'Storage Optimized'], dtype=object)"
      ]
     },
     "execution_count": 19,
     "metadata": {},
     "output_type": "execute_result"
    }
   ],
   "source": [
    "azure_instances = df_azure['instance_family'].unique()\n",
    "azure_instances"
   ]
  },
  {
   "cell_type": "code",
   "execution_count": 20,
   "id": "3c2afaff",
   "metadata": {},
   "outputs": [
    {
     "name": "stdout",
     "output_type": "stream",
     "text": [
      "GPU instance mismatched\n",
      "Storage optimized mismatched\n",
      "Micro instances mismatched\n",
      "FPGA Instances mismatched\n"
     ]
    }
   ],
   "source": [
    "compare_col_vals(df_aws,df_azure,'instance_family')"
   ]
  },
  {
   "cell_type": "code",
   "execution_count": 21,
   "id": "fd481ec4",
   "metadata": {},
   "outputs": [],
   "source": [
    "#df_azure[df_azure['instance_family'].isnull()] = 'General purpose' # need to reload data\n",
    "df_aws.loc[df_aws['instance_family']     == 'FPGA Instances'   , 'instance_family'] = 'High Performance'\n",
    "df_aws.loc[df_aws['instance_family']     == 'GPU instance'     , 'instance_family'] = 'GPU optimized'\n",
    "df_azure.loc[df_azure['instance_family'] == 'GPU Optimized'    , 'instance_family'] = 'GPU optimized'\n",
    "df_azure.loc[df_azure['instance_family'] == 'Storage Optimized', 'instance_family'] = 'Storage optimized'\n",
    "df_azure.loc[df_azure['instance_family'] == 'General'          , 'instance_family'] = 'General purpose'\n",
    "\n",
    "df_aws = df_aws[df_aws['instance_family'] != 'Micro instances']"
   ]
  },
  {
   "cell_type": "code",
   "execution_count": 22,
   "id": "b2f50daa",
   "metadata": {},
   "outputs": [],
   "source": [
    "compare_col_vals(df_aws,df_azure,'instance_family')"
   ]
  },
  {
   "cell_type": "markdown",
   "id": "6a22fd81",
   "metadata": {},
   "source": [
    "### vcpu"
   ]
  },
  {
   "cell_type": "code",
   "execution_count": 23,
   "id": "997fd9ba",
   "metadata": {},
   "outputs": [
    {
     "data": {
      "text/plain": [
       "array([ 32.,   8.,   4.,  16.,   2.,  96.,  48.,  40.,  64.,   1.,  12.,\n",
       "        72.,  36., 448., 128.,  24., 224.])"
      ]
     },
     "execution_count": 23,
     "metadata": {},
     "output_type": "execute_result"
    }
   ],
   "source": [
    "#compare_col_vals(df_aws, df_azure,'vcpu')\n",
    "\n",
    "col = 'vcpu'\n",
    "aws_u = df_aws[col].unique()\n",
    "aws_u"
   ]
  },
  {
   "cell_type": "code",
   "execution_count": 24,
   "id": "031cb677",
   "metadata": {},
   "outputs": [
    {
     "data": {
      "text/plain": [
       "array(['16', '64', '2', '8', '4 / 16', '8 / 16', '48', '32', '8 / 32',\n",
       "       '16 / 32', '4 / 8', '2 / 8', '72', '416', '16 / 64', '32 / 64',\n",
       "       '20', '4', '2 / 4', '1 / 2', '24', '1', '208', '96', '128',\n",
       "       '1 / 4', '120', '12', '80', '64 / 128', '32 / 128', '6', '44',\n",
       "       '40'], dtype=object)"
      ]
     },
     "execution_count": 24,
     "metadata": {},
     "output_type": "execute_result"
    }
   ],
   "source": [
    "azu_u = df_azure[col].unique()\n",
    "azu_u"
   ]
  },
  {
   "cell_type": "code",
   "execution_count": null,
   "id": "e32564b4",
   "metadata": {},
   "outputs": [],
   "source": []
  },
  {
   "cell_type": "markdown",
   "id": "63f8343f",
   "metadata": {},
   "source": [
    "### clock_speed"
   ]
  },
  {
   "cell_type": "code",
   "execution_count": 25,
   "id": "7b080b27",
   "metadata": {},
   "outputs": [],
   "source": [
    "#compare_col_vals(df_aws,df_azure,'clock_speed')"
   ]
  },
  {
   "cell_type": "code",
   "execution_count": 26,
   "id": "e1647611",
   "metadata": {},
   "outputs": [
    {
     "data": {
      "text/plain": [
       "array(['2.5 GHz', '2.8 GHz', nan, '3.1 GHz', '2.3 GHz', '2.4 GHz',\n",
       "       '3 GHz', '4 GHz', 'Up to 3.3 GHz', '4.5 GHz', '2.9 GHz', '2 GHz',\n",
       "       '2.6 GHz'], dtype=object)"
      ]
     },
     "execution_count": 26,
     "metadata": {},
     "output_type": "execute_result"
    }
   ],
   "source": [
    "col = 'clock_speed'\n",
    "aws_u = df_aws[col].unique()\n",
    "aws_u"
   ]
  },
  {
   "cell_type": "code",
   "execution_count": 27,
   "id": "cee4002c",
   "metadata": {},
   "outputs": [
    {
     "data": {
      "text/plain": [
       "array([2.1 , 2.5 , 2.  ,  nan, 3.2 , 2.6 , 2.35, 3.7 , 2.55])"
      ]
     },
     "execution_count": 27,
     "metadata": {},
     "output_type": "execute_result"
    }
   ],
   "source": [
    "azu_u = df_azure[col].unique()\n",
    "azu_u"
   ]
  },
  {
   "cell_type": "markdown",
   "id": "60abd5c8",
   "metadata": {},
   "source": [
    "### memory"
   ]
  },
  {
   "cell_type": "code",
   "execution_count": 28,
   "id": "2fbe1495",
   "metadata": {},
   "outputs": [
    {
     "name": "stdout",
     "output_type": "stream",
     "text": [
      "7.5 GiB mismatched\n",
      "61 GiB mismatched\n",
      "30.5 GiB mismatched\n",
      "15.25 GiB mismatched\n",
      "21 GiB mismatched\n",
      "15 GiB mismatched\n",
      "5.25 GiB mismatched\n",
      "3.75 GiB mismatched\n",
      "30 GiB mismatched\n",
      "976 GiB mismatched\n",
      "10.5 GiB mismatched\n",
      "60 GiB mismatched\n",
      "1 GiB mismatched\n",
      "0.5 GiB mismatched\n",
      "60.5 GiB mismatched\n",
      "17.1 GiB mismatched\n",
      "24576 GiB mismatched\n"
     ]
    }
   ],
   "source": [
    "compare_col_vals(df_aws,df_azure,'memory')"
   ]
  },
  {
   "cell_type": "code",
   "execution_count": 29,
   "id": "e95c29e8",
   "metadata": {},
   "outputs": [
    {
     "data": {
      "text/plain": [
       "array(['244 GiB', '64 GiB', '16 GiB', '7.5 GiB', '192 GiB', '256 GiB',\n",
       "       '128 GiB', '384 GiB', '68.4 GiB', '61 GiB', '30.5 GiB', '8 GiB',\n",
       "       '160 GiB', '15.25 GiB', '122 GiB', '512 GiB', '32 GiB', '1.7 GiB',\n",
       "       '96 GiB', '4 GiB', '144 GiB', '768 GiB', '732 GiB', '21 GiB',\n",
       "       '15 GiB', '5.25 GiB', '1952 GiB', '3.75 GiB', '488 GiB',\n",
       "       '9216 GiB', '48 GiB', '72 GiB', '3904 GiB', '30 GiB', '976 GiB',\n",
       "       '10.5 GiB', '12288 GiB', '2 GiB', '60 GiB', '1 GiB', '117 GiB',\n",
       "       '0.5 GiB', '42 GiB', '6144 GiB', '7 GiB', '60.5 GiB', '17.1 GiB',\n",
       "       '34.2 GiB', '18432 GiB', '24576 GiB'], dtype=object)"
      ]
     },
     "execution_count": 29,
     "metadata": {},
     "output_type": "execute_result"
    }
   ],
   "source": [
    "col = 'memory'\n",
    "aws_u = df_aws[col].unique()\n",
    "aws_u"
   ]
  },
  {
   "cell_type": "code",
   "execution_count": 30,
   "id": "84694c8f",
   "metadata": {},
   "outputs": [
    {
     "data": {
      "text/plain": [
       "array(['112 GiB', '256 GiB', '504 GiB', '28 GiB', '64 GiB', '437.5 GiB',\n",
       "       '96 GiB', '56 GiB', '16 GiB', '144 GiB', '128 GiB', '192 GiB',\n",
       "       '5,700 GiB', '432 GiB', '218.75 GiB', '160 GiB', '32 GiB',\n",
       "       '14 GiB', '4 GiB', '8 GiB', '224 GiB', '2 GiB', '140 GiB',\n",
       "       '2,850 GiB', '1,750 GiB', '512 GiB', '672 GiB', '384 GiB',\n",
       "       '2,000 GiB', '7 GiB', '456 GiB', '448 GiB', '11,400 GiB',\n",
       "       '875 GiB', '1,000 GiB', '110 GiB', '3,800 GiB', '3.5 GiB',\n",
       "       '440 GiB', '640 GiB', '352 GiB', '900 GiB'], dtype=object)"
      ]
     },
     "execution_count": 30,
     "metadata": {},
     "output_type": "execute_result"
    }
   ],
   "source": [
    "azu_u = df_azure[col].unique()\n",
    "azu_u"
   ]
  },
  {
   "cell_type": "markdown",
   "id": "203d3305",
   "metadata": {},
   "source": [
    "### storage"
   ]
  },
  {
   "cell_type": "code",
   "execution_count": 31,
   "id": "ab0203b2",
   "metadata": {},
   "outputs": [
    {
     "data": {
      "text/plain": [
       "array(['2 x 320 SSD', '1 x 300 NVMe SSD', '125 GB NVMe SSD',\n",
       "       '600 GB NVMe SSD', '2 x 420 SSD', '2 x 1900 NVMe SSD',\n",
       "       '2 x 600 NVMe SSD', 'EBS only', '2 x 900 NVMe SSD', '2 x 840 SSD',\n",
       "       '1 x 80 SSD', '4 x 600 NVMe SSD', '4 x 900 NVMe SSD',\n",
       "       '1 x 2500 NVMe SSD', '1 x 160 SSD', '1 x 7500 NVMe SSD',\n",
       "       '4 x 1900 NVMe SSD', '1 x 1250 NVMe SSD', '1 x 950 NVMe SSD',\n",
       "       '1 x 150 NVMe SSD', '2 x 2500 NVMe SSD', '2 x 800 SSD',\n",
       "       '24 x 2000 HDD', '2 x 40 SSD', '1 x 50 NVMe SSD', '1 x 1920 SSD',\n",
       "       '2 x 80 SSD', '8 x 1900 NVMe SSD', '2 x 300 NVMe SSD',\n",
       "       '1 x 400 NVMe SSD', '1 x 900 NVMe SSD', '2 x 1920 SSD',\n",
       "       '1 x 960 SSD', '8 x 7500 NVMe SSD', '225 GB NVMe SSD',\n",
       "       '1 x 480 SSD', '1 x 475 NVMe SSD', '1 x 1900 NVMe SSD',\n",
       "       '2 x 900 GB NVMe SSD', '2 x 160 SSD', '2 x 7500 NVMe SSD',\n",
       "       '1 x 75 NVMe SSD', '1 x 200 NVMe SSD', '4 x 7500 NVMe SSD',\n",
       "       '900 GB NVMe SSD', '1 x 100 NVMe SSD', '1 x 450 NVMe SSD',\n",
       "       '3 x 2000 HDD', '1 x 4 SSD', '1 x 120 SSD', '1 x 32 SSD',\n",
       "       '12 x 14000 HDD', '12 x 2000 HDD', '24 x 14000 HDD',\n",
       "       '6 x 2000 HDD', '4 x 800 SSD', '2 x 16 SSD', '1 x 2000 HDD',\n",
       "       '1 x 320 SSD', '2 x 120 SSD', '1 x 240 SSD', '1 x 800 SSD',\n",
       "       '4 x 14000 HDD', '2 x 1200 NVMe SSD', '1 x 60 SSD', '4 x 2000 HDD',\n",
       "       '8 x 800 SSD', '4 x 420 SSD', '150 GB NVMe SSD',\n",
       "       '1200 GB NVMe SSD', '8 x 2000 HDD', '1 x 350 SSD',\n",
       "       '2400 GB NVMe SSD', '2 x 2000 HDD', '8 x 14000 HDD',\n",
       "       '300 GB NVMe SSD', '4 x 840 SSD', '1 x 420 SSD', '2 x 14000 HDD',\n",
       "       '1 x 410 SSD', '16 x 14000 HDD', '1 x 850 SSD',\n",
       "       '32 x 2000 NVMe SSD', '1 x 470 NVMe SSD', '4 x 940 NVMe SSD'],\n",
       "      dtype=object)"
      ]
     },
     "execution_count": 31,
     "metadata": {},
     "output_type": "execute_result"
    }
   ],
   "source": [
    "col = 'storage'\n",
    "aws_u = df_aws[col].unique()\n",
    "aws_u"
   ]
  },
  {
   "cell_type": "code",
   "execution_count": 32,
   "id": "ac3aa8b9",
   "metadata": {},
   "outputs": [
    {
     "data": {
      "text/plain": [
       "array(['224 GiB', '800 GiB', nan, '384 GiB', '80 GiB', '512 GiB',\n",
       "       '256 GiB', '1,000 GiB', '112 GiB', '400 GiB', '1,200 GiB',\n",
       "       '576 GiB', '8,192 GiB', '32 GiB', '50 GiB', '360 GiB', '2,000 GiB',\n",
       "       '1,600 GiB', '864 GiB', '600 GiB', '64 GiB', '100 GiB', '28 GiB',\n",
       "       '8 GiB', '16 GiB', '1,440 GiB', '75 GiB', '10 GiB', '280 GiB',\n",
       "       '200 GiB', '128 GiB', '750 GiB', '4,096 GiB', '150 GiB',\n",
       "       '1,800 GiB', '2,048 GiB', '40 GiB', '2,400 GiB', '300 GiB',\n",
       "       '20 GiB', '768 GiB', '56 GiB', '88 GiB', '900 GiB', '678 GiB',\n",
       "       '2,948 GiB', '672 GiB', '480 GiB', '320 GiB', '14 GiB', '4 GiB',\n",
       "       '1,024 GiB', '1,344 GiB', '352 GiB', '1,536 GiB', '500 GiB',\n",
       "       '680 GiB', '700 GiB', '5,630 GiB', '7 GiB', '160 GiB', '640 GiB',\n",
       "       '1,474 GiB', '736 GiB', '2,807 GiB', '336 GiB', '340 GiB',\n",
       "       '2,880 GiB', '6,144 GiB', '1,388 GiB', '176 GiB', '3,072 GiB',\n",
       "       '180 GiB', '6,500 GiB', '2,900 GiB'], dtype=object)"
      ]
     },
     "execution_count": 32,
     "metadata": {},
     "output_type": "execute_result"
    }
   ],
   "source": [
    "azu_u = df_azure[col].unique()\n",
    "azu_u"
   ]
  },
  {
   "cell_type": "markdown",
   "id": "a2f6a96e",
   "metadata": {},
   "source": [
    "### tenancy"
   ]
  },
  {
   "cell_type": "code",
   "execution_count": 33,
   "id": "60937a5c",
   "metadata": {},
   "outputs": [
    {
     "data": {
      "text/plain": [
       "array(['Host', 'Shared', 'Dedicated'], dtype=object)"
      ]
     },
     "execution_count": 33,
     "metadata": {},
     "output_type": "execute_result"
    }
   ],
   "source": [
    "col = 'tenancy'\n",
    "aws_u = df_aws[col].unique()\n",
    "aws_u"
   ]
  },
  {
   "cell_type": "code",
   "execution_count": 34,
   "id": "73cf332a",
   "metadata": {},
   "outputs": [
    {
     "data": {
      "text/plain": [
       "array([False,  True])"
      ]
     },
     "execution_count": 34,
     "metadata": {},
     "output_type": "execute_result"
    }
   ],
   "source": [
    "azu_u = df_azure[col].unique()\n",
    "azu_u"
   ]
  },
  {
   "cell_type": "code",
   "execution_count": 35,
   "id": "b9f7327c",
   "metadata": {},
   "outputs": [],
   "source": [
    "df_azure.loc[df_azure[col]==False, col] = 'Shared'\n",
    "df_azure.loc[df_azure[col]==True, col] = 'Dedicated'"
   ]
  },
  {
   "cell_type": "code",
   "execution_count": 36,
   "id": "de5060c6",
   "metadata": {},
   "outputs": [
    {
     "data": {
      "text/plain": [
       "array(['Shared', 'Dedicated'], dtype=object)"
      ]
     },
     "execution_count": 36,
     "metadata": {},
     "output_type": "execute_result"
    }
   ],
   "source": [
    "azu_u = df_azure[col].unique()\n",
    "azu_u"
   ]
  },
  {
   "cell_type": "code",
   "execution_count": 37,
   "id": "7e48b2ac",
   "metadata": {},
   "outputs": [
    {
     "data": {
      "text/html": [
       "<div>\n",
       "<style scoped>\n",
       "    .dataframe tbody tr th:only-of-type {\n",
       "        vertical-align: middle;\n",
       "    }\n",
       "\n",
       "    .dataframe tbody tr th {\n",
       "        vertical-align: top;\n",
       "    }\n",
       "\n",
       "    .dataframe thead th {\n",
       "        text-align: right;\n",
       "    }\n",
       "</style>\n",
       "<table border=\"1\" class=\"dataframe\">\n",
       "  <thead>\n",
       "    <tr style=\"text-align: right;\">\n",
       "      <th></th>\n",
       "      <th>sku</th>\n",
       "      <th>location</th>\n",
       "      <th>instance_type</th>\n",
       "      <th>instance_family</th>\n",
       "      <th>vcpu</th>\n",
       "      <th>clock_speed</th>\n",
       "      <th>memory</th>\n",
       "      <th>storage</th>\n",
       "      <th>price</th>\n",
       "      <th>tenancy</th>\n",
       "      <th>provider</th>\n",
       "    </tr>\n",
       "  </thead>\n",
       "  <tbody>\n",
       "    <tr>\n",
       "      <th>1325</th>\n",
       "      <td>G1</td>\n",
       "      <td>EU West</td>\n",
       "      <td>Standard_G1</td>\n",
       "      <td>Memory</td>\n",
       "      <td>2</td>\n",
       "      <td>2.0</td>\n",
       "      <td>28 GiB</td>\n",
       "      <td>384 GiB</td>\n",
       "      <td>0.7700</td>\n",
       "      <td>Dedicated</td>\n",
       "      <td>Azure</td>\n",
       "    </tr>\n",
       "    <tr>\n",
       "      <th>1326</th>\n",
       "      <td>G1</td>\n",
       "      <td>EU West</td>\n",
       "      <td>Standard_G1</td>\n",
       "      <td>Memory</td>\n",
       "      <td>2</td>\n",
       "      <td>2.0</td>\n",
       "      <td>28 GiB</td>\n",
       "      <td>384 GiB</td>\n",
       "      <td>0.7000</td>\n",
       "      <td>Dedicated</td>\n",
       "      <td>Azure</td>\n",
       "    </tr>\n",
       "    <tr>\n",
       "      <th>1327</th>\n",
       "      <td>G1</td>\n",
       "      <td>US Gov TX</td>\n",
       "      <td>Standard_G1</td>\n",
       "      <td>Memory</td>\n",
       "      <td>2</td>\n",
       "      <td>2.0</td>\n",
       "      <td>28 GiB</td>\n",
       "      <td>384 GiB</td>\n",
       "      <td>0.7625</td>\n",
       "      <td>Dedicated</td>\n",
       "      <td>Azure</td>\n",
       "    </tr>\n",
       "    <tr>\n",
       "      <th>1328</th>\n",
       "      <td>G1</td>\n",
       "      <td>US West Central</td>\n",
       "      <td>Standard_G1</td>\n",
       "      <td>Memory</td>\n",
       "      <td>2</td>\n",
       "      <td>2.0</td>\n",
       "      <td>28 GiB</td>\n",
       "      <td>384 GiB</td>\n",
       "      <td>0.6100</td>\n",
       "      <td>Dedicated</td>\n",
       "      <td>Azure</td>\n",
       "    </tr>\n",
       "    <tr>\n",
       "      <th>1329</th>\n",
       "      <td>G1</td>\n",
       "      <td>US West Central</td>\n",
       "      <td>Standard_G1</td>\n",
       "      <td>Memory</td>\n",
       "      <td>2</td>\n",
       "      <td>2.0</td>\n",
       "      <td>28 GiB</td>\n",
       "      <td>384 GiB</td>\n",
       "      <td>0.5500</td>\n",
       "      <td>Dedicated</td>\n",
       "      <td>Azure</td>\n",
       "    </tr>\n",
       "    <tr>\n",
       "      <th>...</th>\n",
       "      <td>...</td>\n",
       "      <td>...</td>\n",
       "      <td>...</td>\n",
       "      <td>...</td>\n",
       "      <td>...</td>\n",
       "      <td>...</td>\n",
       "      <td>...</td>\n",
       "      <td>...</td>\n",
       "      <td>...</td>\n",
       "      <td>...</td>\n",
       "      <td>...</td>\n",
       "    </tr>\n",
       "    <tr>\n",
       "      <th>58389</th>\n",
       "      <td>G4</td>\n",
       "      <td>US West 2</td>\n",
       "      <td>Standard_G4</td>\n",
       "      <td>Memory</td>\n",
       "      <td>16</td>\n",
       "      <td>2.0</td>\n",
       "      <td>224 GiB</td>\n",
       "      <td>3,072 GiB</td>\n",
       "      <td>3.9220</td>\n",
       "      <td>Dedicated</td>\n",
       "      <td>Azure</td>\n",
       "    </tr>\n",
       "    <tr>\n",
       "      <th>58390</th>\n",
       "      <td>G4</td>\n",
       "      <td>US West 2</td>\n",
       "      <td>Standard_G4</td>\n",
       "      <td>Memory</td>\n",
       "      <td>16</td>\n",
       "      <td>2.0</td>\n",
       "      <td>224 GiB</td>\n",
       "      <td>3,072 GiB</td>\n",
       "      <td>4.4750</td>\n",
       "      <td>Dedicated</td>\n",
       "      <td>Azure</td>\n",
       "    </tr>\n",
       "    <tr>\n",
       "      <th>58391</th>\n",
       "      <td>G4</td>\n",
       "      <td>US Gov Virginia</td>\n",
       "      <td>Standard_G4</td>\n",
       "      <td>Memory</td>\n",
       "      <td>16</td>\n",
       "      <td>2.0</td>\n",
       "      <td>224 GiB</td>\n",
       "      <td>3,072 GiB</td>\n",
       "      <td>4.4000</td>\n",
       "      <td>Dedicated</td>\n",
       "      <td>Azure</td>\n",
       "    </tr>\n",
       "    <tr>\n",
       "      <th>58392</th>\n",
       "      <td>G4</td>\n",
       "      <td>JA East</td>\n",
       "      <td>Standard_G4</td>\n",
       "      <td>Memory</td>\n",
       "      <td>16</td>\n",
       "      <td>2.0</td>\n",
       "      <td>224 GiB</td>\n",
       "      <td>3,072 GiB</td>\n",
       "      <td>4.6020</td>\n",
       "      <td>Dedicated</td>\n",
       "      <td>Azure</td>\n",
       "    </tr>\n",
       "    <tr>\n",
       "      <th>58393</th>\n",
       "      <td>G4</td>\n",
       "      <td>JA East</td>\n",
       "      <td>Standard_G4</td>\n",
       "      <td>Memory</td>\n",
       "      <td>16</td>\n",
       "      <td>2.0</td>\n",
       "      <td>224 GiB</td>\n",
       "      <td>3,072 GiB</td>\n",
       "      <td>5.1190</td>\n",
       "      <td>Dedicated</td>\n",
       "      <td>Azure</td>\n",
       "    </tr>\n",
       "  </tbody>\n",
       "</table>\n",
       "<p>325 rows × 11 columns</p>\n",
       "</div>"
      ],
      "text/plain": [
       "      sku         location instance_type instance_family vcpu  clock_speed  \\\n",
       "1325   G1          EU West   Standard_G1          Memory    2          2.0   \n",
       "1326   G1          EU West   Standard_G1          Memory    2          2.0   \n",
       "1327   G1        US Gov TX   Standard_G1          Memory    2          2.0   \n",
       "1328   G1  US West Central   Standard_G1          Memory    2          2.0   \n",
       "1329   G1  US West Central   Standard_G1          Memory    2          2.0   \n",
       "...    ..              ...           ...             ...  ...          ...   \n",
       "58389  G4        US West 2   Standard_G4          Memory   16          2.0   \n",
       "58390  G4        US West 2   Standard_G4          Memory   16          2.0   \n",
       "58391  G4  US Gov Virginia   Standard_G4          Memory   16          2.0   \n",
       "58392  G4          JA East   Standard_G4          Memory   16          2.0   \n",
       "58393  G4          JA East   Standard_G4          Memory   16          2.0   \n",
       "\n",
       "        memory    storage   price    tenancy provider  \n",
       "1325    28 GiB    384 GiB  0.7700  Dedicated    Azure  \n",
       "1326    28 GiB    384 GiB  0.7000  Dedicated    Azure  \n",
       "1327    28 GiB    384 GiB  0.7625  Dedicated    Azure  \n",
       "1328    28 GiB    384 GiB  0.6100  Dedicated    Azure  \n",
       "1329    28 GiB    384 GiB  0.5500  Dedicated    Azure  \n",
       "...        ...        ...     ...        ...      ...  \n",
       "58389  224 GiB  3,072 GiB  3.9220  Dedicated    Azure  \n",
       "58390  224 GiB  3,072 GiB  4.4750  Dedicated    Azure  \n",
       "58391  224 GiB  3,072 GiB  4.4000  Dedicated    Azure  \n",
       "58392  224 GiB  3,072 GiB  4.6020  Dedicated    Azure  \n",
       "58393  224 GiB  3,072 GiB  5.1190  Dedicated    Azure  \n",
       "\n",
       "[325 rows x 11 columns]"
      ]
     },
     "execution_count": 37,
     "metadata": {},
     "output_type": "execute_result"
    }
   ],
   "source": [
    "df_azure[df_azure[col]=='Dedicated']"
   ]
  },
  {
   "cell_type": "markdown",
   "id": "942cc406",
   "metadata": {},
   "source": [
    "### price"
   ]
  },
  {
   "cell_type": "code",
   "execution_count": 38,
   "id": "395c90eb",
   "metadata": {},
   "outputs": [
    {
     "data": {
      "text/plain": [
       "array([ 0.   ,  1.704,  0.19 , ..., 27.289,  0.053, 15.292])"
      ]
     },
     "execution_count": 38,
     "metadata": {},
     "output_type": "execute_result"
    }
   ],
   "source": [
    "col = 'price'\n",
    "aws_u = df_aws[col].unique()\n",
    "aws_u"
   ]
  },
  {
   "cell_type": "code",
   "execution_count": 39,
   "id": "1e353119",
   "metadata": {},
   "outputs": [
    {
     "data": {
      "text/plain": [
       "array([1.48200e+00, 2.17100e+00, 2.90700e+00, ..., 1.30885e+05,\n",
       "       2.82780e+01, 1.18152e+05])"
      ]
     },
     "execution_count": 39,
     "metadata": {},
     "output_type": "execute_result"
    }
   ],
   "source": [
    "azu_u = df_azure[col].unique()\n",
    "azu_u"
   ]
  },
  {
   "cell_type": "code",
   "execution_count": 40,
   "id": "3509f61b",
   "metadata": {},
   "outputs": [],
   "source": [
    "# Good enough.."
   ]
  },
  {
   "cell_type": "markdown",
   "id": "0e0e50a0",
   "metadata": {},
   "source": [
    "## Merge AWS and Azure dataframes"
   ]
  },
  {
   "cell_type": "code",
   "execution_count": 41,
   "id": "1b9120f5",
   "metadata": {},
   "outputs": [
    {
     "data": {
      "text/html": [
       "<div>\n",
       "<style scoped>\n",
       "    .dataframe tbody tr th:only-of-type {\n",
       "        vertical-align: middle;\n",
       "    }\n",
       "\n",
       "    .dataframe tbody tr th {\n",
       "        vertical-align: top;\n",
       "    }\n",
       "\n",
       "    .dataframe thead th {\n",
       "        text-align: right;\n",
       "    }\n",
       "</style>\n",
       "<table border=\"1\" class=\"dataframe\">\n",
       "  <thead>\n",
       "    <tr style=\"text-align: right;\">\n",
       "      <th></th>\n",
       "      <th>sku</th>\n",
       "      <th>location</th>\n",
       "      <th>instance_type</th>\n",
       "      <th>instance_family</th>\n",
       "      <th>vcpu</th>\n",
       "      <th>clock_speed</th>\n",
       "      <th>memory</th>\n",
       "      <th>storage</th>\n",
       "      <th>tenancy</th>\n",
       "      <th>price</th>\n",
       "      <th>provider</th>\n",
       "    </tr>\n",
       "  </thead>\n",
       "  <tbody>\n",
       "    <tr>\n",
       "      <th>0</th>\n",
       "      <td>FMEJYTPF3M8YDBYD</td>\n",
       "      <td>Asia Pacific (Osaka)</td>\n",
       "      <td>r3.8xlarge</td>\n",
       "      <td>Memory optimized</td>\n",
       "      <td>32.0</td>\n",
       "      <td>2.5 GHz</td>\n",
       "      <td>244 GiB</td>\n",
       "      <td>2 x 320 SSD</td>\n",
       "      <td>Host</td>\n",
       "      <td>0.000</td>\n",
       "      <td>AWS</td>\n",
       "    </tr>\n",
       "    <tr>\n",
       "      <th>1</th>\n",
       "      <td>B9QWBFQZHCY7X3HM</td>\n",
       "      <td>EU (Ireland)</td>\n",
       "      <td>r5ad.2xlarge</td>\n",
       "      <td>Memory optimized</td>\n",
       "      <td>8.0</td>\n",
       "      <td>2.5 GHz</td>\n",
       "      <td>64 GiB</td>\n",
       "      <td>1 x 300 NVMe SSD</td>\n",
       "      <td>Shared</td>\n",
       "      <td>0.000</td>\n",
       "      <td>AWS</td>\n",
       "    </tr>\n",
       "    <tr>\n",
       "      <th>2</th>\n",
       "      <td>SA8JPXVV8GR6B4XS</td>\n",
       "      <td>US West (Oregon)</td>\n",
       "      <td>g4dn.xlarge</td>\n",
       "      <td>GPU optimized</td>\n",
       "      <td>4.0</td>\n",
       "      <td>2.5 GHz</td>\n",
       "      <td>16 GiB</td>\n",
       "      <td>125 GB NVMe SSD</td>\n",
       "      <td>Host</td>\n",
       "      <td>0.000</td>\n",
       "      <td>AWS</td>\n",
       "    </tr>\n",
       "    <tr>\n",
       "      <th>3</th>\n",
       "      <td>PGGUDD5Q3K4SP2K5</td>\n",
       "      <td>EU (Ireland)</td>\n",
       "      <td>g4ad.4xlarge</td>\n",
       "      <td>GPU optimized</td>\n",
       "      <td>16.0</td>\n",
       "      <td>2.8 GHz</td>\n",
       "      <td>64 GiB</td>\n",
       "      <td>600 GB NVMe SSD</td>\n",
       "      <td>Shared</td>\n",
       "      <td>1.704</td>\n",
       "      <td>AWS</td>\n",
       "    </tr>\n",
       "    <tr>\n",
       "      <th>4</th>\n",
       "      <td>4CR6D9AX3JUCVGKK</td>\n",
       "      <td>EU (Ireland)</td>\n",
       "      <td>m1.large</td>\n",
       "      <td>General purpose</td>\n",
       "      <td>2.0</td>\n",
       "      <td>NaN</td>\n",
       "      <td>7.5 GiB</td>\n",
       "      <td>2 x 420 SSD</td>\n",
       "      <td>Shared</td>\n",
       "      <td>0.190</td>\n",
       "      <td>AWS</td>\n",
       "    </tr>\n",
       "    <tr>\n",
       "      <th>...</th>\n",
       "      <td>...</td>\n",
       "      <td>...</td>\n",
       "      <td>...</td>\n",
       "      <td>...</td>\n",
       "      <td>...</td>\n",
       "      <td>...</td>\n",
       "      <td>...</td>\n",
       "      <td>...</td>\n",
       "      <td>...</td>\n",
       "      <td>...</td>\n",
       "      <td>...</td>\n",
       "    </tr>\n",
       "    <tr>\n",
       "      <th>177555</th>\n",
       "      <td>ND40rs v2</td>\n",
       "      <td>US West 2</td>\n",
       "      <td>Standard_ND40rs_v2</td>\n",
       "      <td>GPU optimized</td>\n",
       "      <td>40</td>\n",
       "      <td>NaN</td>\n",
       "      <td>672 GiB</td>\n",
       "      <td>2,900 GiB</td>\n",
       "      <td>Shared</td>\n",
       "      <td>22.032</td>\n",
       "      <td>Azure</td>\n",
       "    </tr>\n",
       "    <tr>\n",
       "      <th>177556</th>\n",
       "      <td>ND40rs v2</td>\n",
       "      <td>US South Central</td>\n",
       "      <td>Standard_ND40rs_v2</td>\n",
       "      <td>GPU optimized</td>\n",
       "      <td>40</td>\n",
       "      <td>NaN</td>\n",
       "      <td>672 GiB</td>\n",
       "      <td>2,900 GiB</td>\n",
       "      <td>Shared</td>\n",
       "      <td>28.278</td>\n",
       "      <td>Azure</td>\n",
       "    </tr>\n",
       "    <tr>\n",
       "      <th>177557</th>\n",
       "      <td>ND40rs v2</td>\n",
       "      <td>US South Central</td>\n",
       "      <td>Standard_ND40rs_v2</td>\n",
       "      <td>GPU optimized</td>\n",
       "      <td>40</td>\n",
       "      <td>NaN</td>\n",
       "      <td>672 GiB</td>\n",
       "      <td>2,900 GiB</td>\n",
       "      <td>Shared</td>\n",
       "      <td>26.438</td>\n",
       "      <td>Azure</td>\n",
       "    </tr>\n",
       "    <tr>\n",
       "      <th>177558</th>\n",
       "      <td>ND40rs v2</td>\n",
       "      <td>EU West</td>\n",
       "      <td>Standard_ND40rs_v2</td>\n",
       "      <td>GPU optimized</td>\n",
       "      <td>40</td>\n",
       "      <td>NaN</td>\n",
       "      <td>672 GiB</td>\n",
       "      <td>2,900 GiB</td>\n",
       "      <td>Shared</td>\n",
       "      <td>27.526</td>\n",
       "      <td>Azure</td>\n",
       "    </tr>\n",
       "    <tr>\n",
       "      <th>177559</th>\n",
       "      <td>ND40rs v2</td>\n",
       "      <td>EU West</td>\n",
       "      <td>Standard_ND40rs_v2</td>\n",
       "      <td>GPU optimized</td>\n",
       "      <td>40</td>\n",
       "      <td>NaN</td>\n",
       "      <td>672 GiB</td>\n",
       "      <td>2,900 GiB</td>\n",
       "      <td>Shared</td>\n",
       "      <td>118152.000</td>\n",
       "      <td>Azure</td>\n",
       "    </tr>\n",
       "  </tbody>\n",
       "</table>\n",
       "<p>177560 rows × 11 columns</p>\n",
       "</div>"
      ],
      "text/plain": [
       "                     sku              location       instance_type  \\\n",
       "0       FMEJYTPF3M8YDBYD  Asia Pacific (Osaka)          r3.8xlarge   \n",
       "1       B9QWBFQZHCY7X3HM          EU (Ireland)        r5ad.2xlarge   \n",
       "2       SA8JPXVV8GR6B4XS      US West (Oregon)         g4dn.xlarge   \n",
       "3       PGGUDD5Q3K4SP2K5          EU (Ireland)        g4ad.4xlarge   \n",
       "4       4CR6D9AX3JUCVGKK          EU (Ireland)            m1.large   \n",
       "...                  ...                   ...                 ...   \n",
       "177555         ND40rs v2             US West 2  Standard_ND40rs_v2   \n",
       "177556         ND40rs v2      US South Central  Standard_ND40rs_v2   \n",
       "177557         ND40rs v2      US South Central  Standard_ND40rs_v2   \n",
       "177558         ND40rs v2               EU West  Standard_ND40rs_v2   \n",
       "177559         ND40rs v2               EU West  Standard_ND40rs_v2   \n",
       "\n",
       "         instance_family  vcpu clock_speed   memory           storage tenancy  \\\n",
       "0       Memory optimized  32.0     2.5 GHz  244 GiB       2 x 320 SSD    Host   \n",
       "1       Memory optimized   8.0     2.5 GHz   64 GiB  1 x 300 NVMe SSD  Shared   \n",
       "2          GPU optimized   4.0     2.5 GHz   16 GiB   125 GB NVMe SSD    Host   \n",
       "3          GPU optimized  16.0     2.8 GHz   64 GiB   600 GB NVMe SSD  Shared   \n",
       "4        General purpose   2.0         NaN  7.5 GiB       2 x 420 SSD  Shared   \n",
       "...                  ...   ...         ...      ...               ...     ...   \n",
       "177555     GPU optimized    40         NaN  672 GiB         2,900 GiB  Shared   \n",
       "177556     GPU optimized    40         NaN  672 GiB         2,900 GiB  Shared   \n",
       "177557     GPU optimized    40         NaN  672 GiB         2,900 GiB  Shared   \n",
       "177558     GPU optimized    40         NaN  672 GiB         2,900 GiB  Shared   \n",
       "177559     GPU optimized    40         NaN  672 GiB         2,900 GiB  Shared   \n",
       "\n",
       "             price provider  \n",
       "0            0.000      AWS  \n",
       "1            0.000      AWS  \n",
       "2            0.000      AWS  \n",
       "3            1.704      AWS  \n",
       "4            0.190      AWS  \n",
       "...            ...      ...  \n",
       "177555      22.032    Azure  \n",
       "177556      28.278    Azure  \n",
       "177557      26.438    Azure  \n",
       "177558      27.526    Azure  \n",
       "177559  118152.000    Azure  \n",
       "\n",
       "[177560 rows x 11 columns]"
      ]
     },
     "execution_count": 41,
     "metadata": {},
     "output_type": "execute_result"
    }
   ],
   "source": [
    "df_merged =  df_aws.append(df_azure)\n",
    "df_merged.reset_index(drop=True)"
   ]
  },
  {
   "cell_type": "code",
   "execution_count": 42,
   "id": "fd7fa92f",
   "metadata": {},
   "outputs": [],
   "source": [
    "df_merged.to_pickle('./data/all.merged.compute.xz.pkl', compression='xz')"
   ]
  },
  {
   "cell_type": "code",
   "execution_count": null,
   "id": "73f0ff8d",
   "metadata": {},
   "outputs": [],
   "source": []
  }
 ],
 "metadata": {
  "kernelspec": {
   "display_name": "Python 3",
   "language": "python",
   "name": "python3"
  },
  "language_info": {
   "codemirror_mode": {
    "name": "ipython",
    "version": 3
   },
   "file_extension": ".py",
   "mimetype": "text/x-python",
   "name": "python",
   "nbconvert_exporter": "python",
   "pygments_lexer": "ipython3",
   "version": "3.7.10"
  }
 },
 "nbformat": 4,
 "nbformat_minor": 5
}
