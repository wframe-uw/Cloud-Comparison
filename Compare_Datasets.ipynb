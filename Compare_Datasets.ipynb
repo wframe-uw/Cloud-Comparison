{
 "cells": [
  {
   "cell_type": "code",
   "execution_count": null,
   "id": "3b7c87e4",
   "metadata": {},
   "outputs": [],
   "source": [
    "import pandas as pd"
   ]
  },
  {
   "cell_type": "code",
   "execution_count": null,
   "id": "f24ee94b",
   "metadata": {},
   "outputs": [],
   "source": [
    "# Azure\n",
    "azure_src = './data/azure.xz.pkl' \n",
    "azure_data = pd.read_pickle(azure_src, compression=\"xz\")"
   ]
  },
  {
   "cell_type": "code",
   "execution_count": null,
   "id": "06f7b9fa",
   "metadata": {},
   "outputs": [],
   "source": [
    "azure_data.head(10)"
   ]
  },
  {
   "cell_type": "code",
   "execution_count": null,
   "id": "640aae54",
   "metadata": {},
   "outputs": [],
   "source": [
    "# AWS\n",
    "aws_src = './data/???.pkl' # Kathy, please enter name of amazon data pickle file\n",
    "aws_data = pd.read_pickle(aws_src, compression=\"xz\")"
   ]
  },
  {
   "cell_type": "code",
   "execution_count": null,
   "id": "56316ae8",
   "metadata": {},
   "outputs": [],
   "source": [
    "aws_data.head(10)"
   ]
  }
 ],
 "metadata": {
  "kernelspec": {
   "display_name": "Python 3",
   "language": "python",
   "name": "python3"
  },
  "language_info": {
   "codemirror_mode": {
    "name": "ipython",
    "version": 3
   },
   "file_extension": ".py",
   "mimetype": "text/x-python",
   "name": "python",
   "nbconvert_exporter": "python",
   "pygments_lexer": "ipython3",
   "version": "3.7.10"
  }
 },
 "nbformat": 4,
 "nbformat_minor": 5
}
