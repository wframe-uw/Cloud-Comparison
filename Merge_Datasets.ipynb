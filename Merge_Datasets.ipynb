{
 "cells": [
  {
   "cell_type": "code",
   "execution_count": 1,
   "id": "3b7c87e4",
   "metadata": {},
   "outputs": [],
   "source": [
    "import pandas as pd\n",
    "import numpy as np"
   ]
  },
  {
   "cell_type": "code",
   "execution_count": 2,
   "id": "f24ee94b",
   "metadata": {},
   "outputs": [],
   "source": [
    "# Azure\n",
    "azure_compute_src = './data/azure.merged.compute.xz.pkl' \n",
    "azure_compute_data = pd.read_pickle(azure_compute_src, compression=\"xz\")"
   ]
  },
  {
   "cell_type": "code",
   "execution_count": 3,
   "id": "640aae54",
   "metadata": {},
   "outputs": [],
   "source": [
    "# AWS\n",
    "aws_compute_src = './data/aws.src.compute.xz.pkl' \n",
    "aws_compute_data = pd.read_pickle(aws_compute_src, compression=\"xz\")"
   ]
  },
  {
   "cell_type": "code",
   "execution_count": 4,
   "id": "52497c5a",
   "metadata": {},
   "outputs": [],
   "source": [
    "# GCP\n",
    "gcp_compute_src = './data/gcp.compute.xz.pkl'\n",
    "df_gcp = pd.read_pickle(gcp_compute_src, compression=\"xz\")\n",
    "df_gcp['provider'] = 'GCP'"
   ]
  },
  {
   "cell_type": "markdown",
   "id": "53245410",
   "metadata": {},
   "source": [
    "## Inspect AWS"
   ]
  },
  {
   "cell_type": "code",
   "execution_count": 5,
   "id": "07240b8c",
   "metadata": {},
   "outputs": [
    {
     "data": {
      "text/plain": [
       "Index(['sku', 'offercode', 'location', 'instance_type', 'instance_family',\n",
       "       'vcpu', 'clock_speed', 'memory', 'storage', 'network_performance',\n",
       "       'processor_architecture', 'tenancy', 'os', 'usagetype', 'operation',\n",
       "       'pd_key', 'price_description', 'unit', 'price'],\n",
       "      dtype='object')"
      ]
     },
     "execution_count": 5,
     "metadata": {},
     "output_type": "execute_result"
    }
   ],
   "source": [
    "aws_compute_data.columns"
   ]
  },
  {
   "cell_type": "code",
   "execution_count": 6,
   "id": "45ad9d50",
   "metadata": {},
   "outputs": [
    {
     "data": {
      "text/plain": [
       "0         $0.00 per Dedicated Reservation RHEL m4.10xlar...\n",
       "1         $0.00 per RHEL with HA and SQL Enterprise i3.8...\n",
       "2         $0.00 per Reservation RHEL c5a.large Instance ...\n",
       "3         $7.293 per On Demand Linux with SQL Web inf1.2...\n",
       "4         $7.234 per Unused Reservation RHEL with SQL We...\n",
       "                                ...                        \n",
       "505796    $2.046 per Unused Reservation Windows with SQL...\n",
       "505797    $0.00 per Dedicated Reservation RHEL with HA a...\n",
       "505798    $16.704 per On Demand Windows with SQL Server ...\n",
       "505799    $0.1784 per Unused Reservation RHEL r6g.large ...\n",
       "505800    $0.511 per Dedicated SUSE i3.xlarge Instance Hour\n",
       "Name: price_description, Length: 505801, dtype: object"
      ]
     },
     "execution_count": 6,
     "metadata": {},
     "output_type": "execute_result"
    }
   ],
   "source": [
    "aws_compute_data['price_description']"
   ]
  },
  {
   "cell_type": "code",
   "execution_count": 7,
   "id": "d9d07169",
   "metadata": {},
   "outputs": [],
   "source": [
    "aws_compute_data_trimmed = aws_compute_data.drop(columns=['sku','offercode','processor_architecture','usagetype','operation',\n",
    "                                                          'pd_key','price_description','unit','network_performance'])"
   ]
  },
  {
   "cell_type": "code",
   "execution_count": 8,
   "id": "576bad1f",
   "metadata": {},
   "outputs": [
    {
     "data": {
      "text/plain": [
       "Index(['location', 'instance_type', 'instance_family', 'vcpu', 'clock_speed',\n",
       "       'memory', 'storage', 'tenancy', 'os', 'price'],\n",
       "      dtype='object')"
      ]
     },
     "execution_count": 8,
     "metadata": {},
     "output_type": "execute_result"
    }
   ],
   "source": [
    "aws_compute_data_trimmed.columns"
   ]
  },
  {
   "cell_type": "code",
   "execution_count": 9,
   "id": "b71c1da1",
   "metadata": {},
   "outputs": [],
   "source": [
    "# windows only\n",
    "aws_compute_data_windows = aws_compute_data_trimmed[aws_compute_data_trimmed['os'] == 'Windows']"
   ]
  },
  {
   "cell_type": "code",
   "execution_count": 10,
   "id": "58b98f49",
   "metadata": {},
   "outputs": [
    {
     "data": {
      "text/html": [
       "<div>\n",
       "<style scoped>\n",
       "    .dataframe tbody tr th:only-of-type {\n",
       "        vertical-align: middle;\n",
       "    }\n",
       "\n",
       "    .dataframe tbody tr th {\n",
       "        vertical-align: top;\n",
       "    }\n",
       "\n",
       "    .dataframe thead th {\n",
       "        text-align: right;\n",
       "    }\n",
       "</style>\n",
       "<table border=\"1\" class=\"dataframe\">\n",
       "  <thead>\n",
       "    <tr style=\"text-align: right;\">\n",
       "      <th></th>\n",
       "      <th>location</th>\n",
       "      <th>instance_type</th>\n",
       "      <th>instance_family</th>\n",
       "      <th>vcpu</th>\n",
       "      <th>clock_speed</th>\n",
       "      <th>memory</th>\n",
       "      <th>storage</th>\n",
       "      <th>tenancy</th>\n",
       "      <th>os</th>\n",
       "      <th>price</th>\n",
       "    </tr>\n",
       "  </thead>\n",
       "  <tbody>\n",
       "    <tr>\n",
       "      <th>7</th>\n",
       "      <td>Asia Pacific (Osaka)</td>\n",
       "      <td>r3.8xlarge</td>\n",
       "      <td>Memory optimized</td>\n",
       "      <td>32.0</td>\n",
       "      <td>2.5 GHz</td>\n",
       "      <td>244 GiB</td>\n",
       "      <td>2 x 320 SSD</td>\n",
       "      <td>Host</td>\n",
       "      <td>Windows</td>\n",
       "      <td>0.000</td>\n",
       "    </tr>\n",
       "    <tr>\n",
       "      <th>8</th>\n",
       "      <td>EU (Ireland)</td>\n",
       "      <td>r5ad.2xlarge</td>\n",
       "      <td>Memory optimized</td>\n",
       "      <td>8.0</td>\n",
       "      <td>2.5 GHz</td>\n",
       "      <td>64 GiB</td>\n",
       "      <td>1 x 300 NVMe SSD</td>\n",
       "      <td>Shared</td>\n",
       "      <td>Windows</td>\n",
       "      <td>0.000</td>\n",
       "    </tr>\n",
       "    <tr>\n",
       "      <th>11</th>\n",
       "      <td>US West (Oregon)</td>\n",
       "      <td>g4dn.xlarge</td>\n",
       "      <td>GPU instance</td>\n",
       "      <td>4.0</td>\n",
       "      <td>2.5 GHz</td>\n",
       "      <td>16 GiB</td>\n",
       "      <td>125 GB NVMe SSD</td>\n",
       "      <td>Host</td>\n",
       "      <td>Windows</td>\n",
       "      <td>0.000</td>\n",
       "    </tr>\n",
       "    <tr>\n",
       "      <th>18</th>\n",
       "      <td>EU (Ireland)</td>\n",
       "      <td>g4ad.4xlarge</td>\n",
       "      <td>GPU instance</td>\n",
       "      <td>16.0</td>\n",
       "      <td>2.8 GHz</td>\n",
       "      <td>64 GiB</td>\n",
       "      <td>600 GB NVMe SSD</td>\n",
       "      <td>Shared</td>\n",
       "      <td>Windows</td>\n",
       "      <td>1.704</td>\n",
       "    </tr>\n",
       "    <tr>\n",
       "      <th>19</th>\n",
       "      <td>EU (Ireland)</td>\n",
       "      <td>m1.large</td>\n",
       "      <td>General purpose</td>\n",
       "      <td>2.0</td>\n",
       "      <td>NaN</td>\n",
       "      <td>7.5 GiB</td>\n",
       "      <td>2 x 420 SSD</td>\n",
       "      <td>Shared</td>\n",
       "      <td>Windows</td>\n",
       "      <td>0.190</td>\n",
       "    </tr>\n",
       "  </tbody>\n",
       "</table>\n",
       "</div>"
      ],
      "text/plain": [
       "                location instance_type   instance_family  vcpu clock_speed  \\\n",
       "7   Asia Pacific (Osaka)    r3.8xlarge  Memory optimized  32.0     2.5 GHz   \n",
       "8           EU (Ireland)  r5ad.2xlarge  Memory optimized   8.0     2.5 GHz   \n",
       "11      US West (Oregon)   g4dn.xlarge      GPU instance   4.0     2.5 GHz   \n",
       "18          EU (Ireland)  g4ad.4xlarge      GPU instance  16.0     2.8 GHz   \n",
       "19          EU (Ireland)      m1.large   General purpose   2.0         NaN   \n",
       "\n",
       "     memory           storage tenancy       os  price  \n",
       "7   244 GiB       2 x 320 SSD    Host  Windows  0.000  \n",
       "8    64 GiB  1 x 300 NVMe SSD  Shared  Windows  0.000  \n",
       "11   16 GiB   125 GB NVMe SSD    Host  Windows  0.000  \n",
       "18   64 GiB   600 GB NVMe SSD  Shared  Windows  1.704  \n",
       "19  7.5 GiB       2 x 420 SSD  Shared  Windows  0.190  "
      ]
     },
     "execution_count": 10,
     "metadata": {},
     "output_type": "execute_result"
    }
   ],
   "source": [
    "aws_compute_data_windows.head()"
   ]
  },
  {
   "cell_type": "markdown",
   "id": "a90bcc80",
   "metadata": {},
   "source": [
    "## Map Schemas"
   ]
  },
  {
   "cell_type": "code",
   "execution_count": 11,
   "id": "f07ffdf5",
   "metadata": {},
   "outputs": [],
   "source": [
    "# Since a smaller set of data, I'm going to use AWS as the base\n",
    "df_aws = aws_compute_data_windows.drop(columns=['os'])\n",
    "df_aws['provider'] = 'AWS'"
   ]
  },
  {
   "cell_type": "code",
   "execution_count": 12,
   "id": "1a7409fb",
   "metadata": {},
   "outputs": [
    {
     "data": {
      "text/plain": [
       "Index(['location', 'instance_type', 'instance_family', 'vcpu', 'clock_speed',\n",
       "       'memory', 'storage', 'tenancy', 'price', 'provider'],\n",
       "      dtype='object')"
      ]
     },
     "execution_count": 12,
     "metadata": {},
     "output_type": "execute_result"
    }
   ],
   "source": [
    "df_aws.columns"
   ]
  },
  {
   "cell_type": "code",
   "execution_count": 13,
   "id": "3d8f7e04",
   "metadata": {},
   "outputs": [
    {
     "data": {
      "text/plain": [
       "Index(['currencyCode', 'tierMinimumUnits', 'retailPrice', 'unitPrice',\n",
       "       'armRegionName', 'location', 'effectiveStartDate', 'meterId',\n",
       "       'meterName', 'productId', 'skuId', 'productName', 'skuName',\n",
       "       'serviceName', 'serviceId', 'serviceFamily', 'unitOfMeasure', 'type',\n",
       "       'isPrimaryMeterRegion', 'armSkuName', 'effectiveEndDate',\n",
       "       'reservationTerm', 'Instance', 'vCPU(s)', 'RAM', 'Temporary storage',\n",
       "       'Supports Premium SSD Storage', 'Clock', 'Burst', 'Purpose',\n",
       "       'Single Customer', 'Constrained CPU', 'NVMe Disk', 'GPU', 'GPU Model',\n",
       "       'NVIDIA GRID Supported', 'Machine Image'],\n",
       "      dtype='object')"
      ]
     },
     "execution_count": 13,
     "metadata": {},
     "output_type": "execute_result"
    }
   ],
   "source": [
    "azure_compute_data.columns"
   ]
  },
  {
   "cell_type": "code",
   "execution_count": 14,
   "id": "a9987d91",
   "metadata": {},
   "outputs": [],
   "source": [
    "df_azure = azure_compute_data[['location','armSkuName','Purpose','vCPU(s)','Clock',\n",
    "                                     'RAM','Temporary storage','unitPrice','Single Customer']]"
   ]
  },
  {
   "cell_type": "code",
   "execution_count": 15,
   "id": "3e47e49f",
   "metadata": {},
   "outputs": [],
   "source": [
    "df_azure = df_azure.rename(columns={'armSkuName':'instance_type',\n",
    "                                                'Purpose':'instance_family','vCPU(s)':'vcpu','Clock':'clock_speed',\n",
    "                                               'RAM':'memory','Temporary storage':'storage',\n",
    "                                               'Single Customer':'tenancy', 'unitPrice':'price'})\n",
    "df_azure['provider'] = 'Azure'"
   ]
  },
  {
   "cell_type": "code",
   "execution_count": 16,
   "id": "b55e73f5",
   "metadata": {},
   "outputs": [
    {
     "data": {
      "text/html": [
       "<div>\n",
       "<style scoped>\n",
       "    .dataframe tbody tr th:only-of-type {\n",
       "        vertical-align: middle;\n",
       "    }\n",
       "\n",
       "    .dataframe tbody tr th {\n",
       "        vertical-align: top;\n",
       "    }\n",
       "\n",
       "    .dataframe thead th {\n",
       "        text-align: right;\n",
       "    }\n",
       "</style>\n",
       "<table border=\"1\" class=\"dataframe\">\n",
       "  <thead>\n",
       "    <tr style=\"text-align: right;\">\n",
       "      <th></th>\n",
       "      <th>location</th>\n",
       "      <th>instance_type</th>\n",
       "      <th>instance_family</th>\n",
       "      <th>vcpu</th>\n",
       "      <th>clock_speed</th>\n",
       "      <th>memory</th>\n",
       "      <th>storage</th>\n",
       "      <th>price</th>\n",
       "      <th>tenancy</th>\n",
       "      <th>provider</th>\n",
       "    </tr>\n",
       "  </thead>\n",
       "  <tbody>\n",
       "    <tr>\n",
       "      <th>0</th>\n",
       "      <td>US North Central</td>\n",
       "      <td>Standard_DS14_v2_Promo</td>\n",
       "      <td>Memory</td>\n",
       "      <td>16</td>\n",
       "      <td>2.1</td>\n",
       "      <td>112 GiB</td>\n",
       "      <td>224 GiB</td>\n",
       "      <td>1.482</td>\n",
       "      <td>False</td>\n",
       "      <td>Azure</td>\n",
       "    </tr>\n",
       "    <tr>\n",
       "      <th>1</th>\n",
       "      <td>NO West</td>\n",
       "      <td>Standard_DS14_v2</td>\n",
       "      <td>Memory</td>\n",
       "      <td>16</td>\n",
       "      <td>2.1</td>\n",
       "      <td>112 GiB</td>\n",
       "      <td>224 GiB</td>\n",
       "      <td>2.171</td>\n",
       "      <td>False</td>\n",
       "      <td>Azure</td>\n",
       "    </tr>\n",
       "    <tr>\n",
       "      <th>2</th>\n",
       "      <td>NO West</td>\n",
       "      <td>Standard_DS14_v2</td>\n",
       "      <td>Memory</td>\n",
       "      <td>16</td>\n",
       "      <td>2.1</td>\n",
       "      <td>112 GiB</td>\n",
       "      <td>224 GiB</td>\n",
       "      <td>2.907</td>\n",
       "      <td>False</td>\n",
       "      <td>Azure</td>\n",
       "    </tr>\n",
       "    <tr>\n",
       "      <th>3</th>\n",
       "      <td>CH North</td>\n",
       "      <td>Standard_DS14_v2</td>\n",
       "      <td>Memory</td>\n",
       "      <td>16</td>\n",
       "      <td>2.1</td>\n",
       "      <td>112 GiB</td>\n",
       "      <td>224 GiB</td>\n",
       "      <td>1.824</td>\n",
       "      <td>False</td>\n",
       "      <td>Azure</td>\n",
       "    </tr>\n",
       "    <tr>\n",
       "      <th>4</th>\n",
       "      <td>CH North</td>\n",
       "      <td>Standard_DS14_v2</td>\n",
       "      <td>Memory</td>\n",
       "      <td>16</td>\n",
       "      <td>2.1</td>\n",
       "      <td>112 GiB</td>\n",
       "      <td>224 GiB</td>\n",
       "      <td>9376.000</td>\n",
       "      <td>False</td>\n",
       "      <td>Azure</td>\n",
       "    </tr>\n",
       "    <tr>\n",
       "      <th>...</th>\n",
       "      <td>...</td>\n",
       "      <td>...</td>\n",
       "      <td>...</td>\n",
       "      <td>...</td>\n",
       "      <td>...</td>\n",
       "      <td>...</td>\n",
       "      <td>...</td>\n",
       "      <td>...</td>\n",
       "      <td>...</td>\n",
       "      <td>...</td>\n",
       "    </tr>\n",
       "    <tr>\n",
       "      <th>59058</th>\n",
       "      <td>US West 2</td>\n",
       "      <td>Standard_ND40rs_v2</td>\n",
       "      <td>GPU Optimized</td>\n",
       "      <td>40</td>\n",
       "      <td>NaN</td>\n",
       "      <td>672 GiB</td>\n",
       "      <td>2,900 GiB</td>\n",
       "      <td>22.032</td>\n",
       "      <td>False</td>\n",
       "      <td>Azure</td>\n",
       "    </tr>\n",
       "    <tr>\n",
       "      <th>59059</th>\n",
       "      <td>US South Central</td>\n",
       "      <td>Standard_ND40rs_v2</td>\n",
       "      <td>GPU Optimized</td>\n",
       "      <td>40</td>\n",
       "      <td>NaN</td>\n",
       "      <td>672 GiB</td>\n",
       "      <td>2,900 GiB</td>\n",
       "      <td>28.278</td>\n",
       "      <td>False</td>\n",
       "      <td>Azure</td>\n",
       "    </tr>\n",
       "    <tr>\n",
       "      <th>59060</th>\n",
       "      <td>US South Central</td>\n",
       "      <td>Standard_ND40rs_v2</td>\n",
       "      <td>GPU Optimized</td>\n",
       "      <td>40</td>\n",
       "      <td>NaN</td>\n",
       "      <td>672 GiB</td>\n",
       "      <td>2,900 GiB</td>\n",
       "      <td>26.438</td>\n",
       "      <td>False</td>\n",
       "      <td>Azure</td>\n",
       "    </tr>\n",
       "    <tr>\n",
       "      <th>59061</th>\n",
       "      <td>EU West</td>\n",
       "      <td>Standard_ND40rs_v2</td>\n",
       "      <td>GPU Optimized</td>\n",
       "      <td>40</td>\n",
       "      <td>NaN</td>\n",
       "      <td>672 GiB</td>\n",
       "      <td>2,900 GiB</td>\n",
       "      <td>27.526</td>\n",
       "      <td>False</td>\n",
       "      <td>Azure</td>\n",
       "    </tr>\n",
       "    <tr>\n",
       "      <th>59062</th>\n",
       "      <td>EU West</td>\n",
       "      <td>Standard_ND40rs_v2</td>\n",
       "      <td>GPU Optimized</td>\n",
       "      <td>40</td>\n",
       "      <td>NaN</td>\n",
       "      <td>672 GiB</td>\n",
       "      <td>2,900 GiB</td>\n",
       "      <td>118152.000</td>\n",
       "      <td>False</td>\n",
       "      <td>Azure</td>\n",
       "    </tr>\n",
       "  </tbody>\n",
       "</table>\n",
       "<p>59063 rows × 10 columns</p>\n",
       "</div>"
      ],
      "text/plain": [
       "               location           instance_type instance_family vcpu  \\\n",
       "0      US North Central  Standard_DS14_v2_Promo          Memory   16   \n",
       "1               NO West        Standard_DS14_v2          Memory   16   \n",
       "2               NO West        Standard_DS14_v2          Memory   16   \n",
       "3              CH North        Standard_DS14_v2          Memory   16   \n",
       "4              CH North        Standard_DS14_v2          Memory   16   \n",
       "...                 ...                     ...             ...  ...   \n",
       "59058         US West 2      Standard_ND40rs_v2   GPU Optimized   40   \n",
       "59059  US South Central      Standard_ND40rs_v2   GPU Optimized   40   \n",
       "59060  US South Central      Standard_ND40rs_v2   GPU Optimized   40   \n",
       "59061           EU West      Standard_ND40rs_v2   GPU Optimized   40   \n",
       "59062           EU West      Standard_ND40rs_v2   GPU Optimized   40   \n",
       "\n",
       "       clock_speed   memory    storage       price  tenancy provider  \n",
       "0              2.1  112 GiB    224 GiB       1.482    False    Azure  \n",
       "1              2.1  112 GiB    224 GiB       2.171    False    Azure  \n",
       "2              2.1  112 GiB    224 GiB       2.907    False    Azure  \n",
       "3              2.1  112 GiB    224 GiB       1.824    False    Azure  \n",
       "4              2.1  112 GiB    224 GiB    9376.000    False    Azure  \n",
       "...            ...      ...        ...         ...      ...      ...  \n",
       "59058          NaN  672 GiB  2,900 GiB      22.032    False    Azure  \n",
       "59059          NaN  672 GiB  2,900 GiB      28.278    False    Azure  \n",
       "59060          NaN  672 GiB  2,900 GiB      26.438    False    Azure  \n",
       "59061          NaN  672 GiB  2,900 GiB      27.526    False    Azure  \n",
       "59062          NaN  672 GiB  2,900 GiB  118152.000    False    Azure  \n",
       "\n",
       "[59063 rows x 10 columns]"
      ]
     },
     "execution_count": 16,
     "metadata": {},
     "output_type": "execute_result"
    }
   ],
   "source": [
    "df_azure"
   ]
  },
  {
   "cell_type": "markdown",
   "id": "0f22d836",
   "metadata": {},
   "source": [
    "## Align Values"
   ]
  },
  {
   "cell_type": "code",
   "execution_count": 17,
   "id": "9f4c4e9b",
   "metadata": {},
   "outputs": [],
   "source": [
    "def compare_col_vals(df1, df2, col_name):\n",
    "    d1_u = df1[col_name].unique()\n",
    "    d2_u = df2[col_name].unique()\n",
    "    \n",
    "    for item in d1_u:\n",
    "        if not any([x in item for x in d2_u]):\n",
    "            print (\"{} mismatched\".format(item))\n"
   ]
  },
  {
   "cell_type": "markdown",
   "id": "18f312a1",
   "metadata": {},
   "source": [
    "### Instance Family"
   ]
  },
  {
   "cell_type": "code",
   "execution_count": 18,
   "id": "861f3e59",
   "metadata": {},
   "outputs": [
    {
     "data": {
      "text/plain": [
       "array(['Memory optimized', 'GPU instance', 'General purpose',\n",
       "       'Compute optimized', 'Storage optimized', nan, 'Micro instances',\n",
       "       'FPGA Instances'], dtype=object)"
      ]
     },
     "execution_count": 18,
     "metadata": {},
     "output_type": "execute_result"
    }
   ],
   "source": [
    "aws_instances = df_aws['instance_family'].unique()\n",
    "aws_instances"
   ]
  },
  {
   "cell_type": "code",
   "execution_count": 19,
   "id": "4a3e389d",
   "metadata": {},
   "outputs": [],
   "source": [
    "df_aws = df_aws.dropna(subset=['instance_family'])"
   ]
  },
  {
   "cell_type": "code",
   "execution_count": 20,
   "id": "0baa67de",
   "metadata": {},
   "outputs": [
    {
     "data": {
      "text/plain": [
       "array(['Memory', 'General', 'High Performance', 'Compute',\n",
       "       'GPU Optimized', 'Storage Optimized'], dtype=object)"
      ]
     },
     "execution_count": 20,
     "metadata": {},
     "output_type": "execute_result"
    }
   ],
   "source": [
    "azure_instances = df_azure['instance_family'].unique()\n",
    "azure_instances"
   ]
  },
  {
   "cell_type": "code",
   "execution_count": 21,
   "id": "8ecc5bec",
   "metadata": {},
   "outputs": [
    {
     "name": "stdout",
     "output_type": "stream",
     "text": [
      "GPU instance mismatched\n",
      "Storage optimized mismatched\n",
      "Micro instances mismatched\n",
      "FPGA Instances mismatched\n"
     ]
    }
   ],
   "source": [
    "compare_col_vals(df_aws,df_azure,'instance_family')"
   ]
  },
  {
   "cell_type": "code",
   "execution_count": 22,
   "id": "74f66914",
   "metadata": {},
   "outputs": [],
   "source": [
    "#df_azure[df_azure['instance_family'].isnull()] = 'General purpose' # need to reload data\n",
    "df_aws.loc[df_aws['instance_family']     == 'FPGA Instances'   , 'instance_family'] = 'High Performance'\n",
    "df_aws.loc[df_aws['instance_family']     == 'GPU instance'     , 'instance_family'] = 'GPU optimized'\n",
    "df_azure.loc[df_azure['instance_family'] == 'Memory'           , 'instance_family'] = 'Memory optimized'\n",
    "df_azure.loc[df_azure['instance_family'] == 'GPU Optimized'    , 'instance_family'] = 'GPU optimized'\n",
    "df_azure.loc[df_azure['instance_family'] == 'Storage Optimized', 'instance_family'] = 'Storage optimized'\n",
    "df_azure.loc[df_azure['instance_family'] == 'General'          , 'instance_family'] = 'General purpose'\n",
    "df_azure.loc[df_azure['instance_family'] == 'Compute'          , 'instance_family'] = 'Compute optimized'\n",
    "\n",
    "df_aws = df_aws[df_aws['instance_family'] != 'Micro instances']"
   ]
  },
  {
   "cell_type": "code",
   "execution_count": 23,
   "id": "c980bfe1",
   "metadata": {},
   "outputs": [],
   "source": [
    "compare_col_vals(df_aws,df_azure,'instance_family')"
   ]
  },
  {
   "cell_type": "code",
   "execution_count": 24,
   "id": "4858209c",
   "metadata": {},
   "outputs": [],
   "source": [
    "compare_col_vals(df_azure, df_aws,'instance_family')"
   ]
  },
  {
   "cell_type": "code",
   "execution_count": 25,
   "id": "bf487954",
   "metadata": {},
   "outputs": [
    {
     "name": "stdout",
     "output_type": "stream",
     "text": [
      "Shared core mismatched\n"
     ]
    }
   ],
   "source": [
    "compare_col_vals(df_gcp, df_azure,'instance_family')"
   ]
  },
  {
   "cell_type": "code",
   "execution_count": 26,
   "id": "14cb3be6",
   "metadata": {},
   "outputs": [
    {
     "name": "stdout",
     "output_type": "stream",
     "text": [
      "High Performance mismatched\n",
      "Storage optimized mismatched\n"
     ]
    }
   ],
   "source": [
    "compare_col_vals(df_azure, df_gcp,'instance_family')"
   ]
  },
  {
   "cell_type": "markdown",
   "id": "e273a9d4",
   "metadata": {},
   "source": [
    "### vcpu"
   ]
  },
  {
   "cell_type": "code",
   "execution_count": 27,
   "id": "e1d3dc96",
   "metadata": {},
   "outputs": [
    {
     "data": {
      "text/plain": [
       "array([ 32.,   8.,   4.,  16.,   2.,  96.,  48.,  40.,  64.,   1.,  12.,\n",
       "        72.,  36., 448., 128.,  24., 224.])"
      ]
     },
     "execution_count": 27,
     "metadata": {},
     "output_type": "execute_result"
    }
   ],
   "source": [
    "#compare_col_vals(df_aws, df_azure,'vcpu')\n",
    "\n",
    "col = 'vcpu'\n",
    "aws_u = df_aws[col].unique()\n",
    "aws_u"
   ]
  },
  {
   "cell_type": "code",
   "execution_count": 28,
   "id": "e45d9bf5",
   "metadata": {},
   "outputs": [
    {
     "data": {
      "text/plain": [
       "array(['16', '64', '2', '8', '4 / 16', '8 / 16', '48', '32', '8 / 32',\n",
       "       '16 / 32', '4 / 8', '2 / 8', '72', '416', '16 / 64', '32 / 64',\n",
       "       '20', '4', '2 / 4', '1 / 2', '24', '1', '208', '96', '128',\n",
       "       '1 / 4', '120', '12', '80', '64 / 128', '32 / 128', '6', '44',\n",
       "       '40'], dtype=object)"
      ]
     },
     "execution_count": 28,
     "metadata": {},
     "output_type": "execute_result"
    }
   ],
   "source": [
    "azu_u = df_azure[col].unique()\n",
    "azu_u"
   ]
  },
  {
   "cell_type": "code",
   "execution_count": 29,
   "id": "9d3b5dd4",
   "metadata": {},
   "outputs": [
    {
     "data": {
      "text/plain": [
       "array([0.25, 0.5, '16', '2', '32', '4', '64', '8', '96', '1', '48', '80',\n",
       "       '128', '224', 1, '30', '60', '40', '160', '208', '416', '12', '24'],\n",
       "      dtype=object)"
      ]
     },
     "execution_count": 29,
     "metadata": {},
     "output_type": "execute_result"
    }
   ],
   "source": [
    "df_gcp[col].unique()"
   ]
  },
  {
   "cell_type": "markdown",
   "id": "8aaf1c1d",
   "metadata": {},
   "source": [
    "### clock_speed"
   ]
  },
  {
   "cell_type": "code",
   "execution_count": 30,
   "id": "bc7053ca",
   "metadata": {},
   "outputs": [],
   "source": [
    "#compare_col_vals(df_aws,df_azure,'clock_speed')"
   ]
  },
  {
   "cell_type": "code",
   "execution_count": 31,
   "id": "9e144f5c",
   "metadata": {},
   "outputs": [
    {
     "data": {
      "text/plain": [
       "array(['2.5 GHz', '2.8 GHz', nan, '3.1 GHz', '2.3 GHz', '2.4 GHz',\n",
       "       '3 GHz', '4 GHz', 'Up to 3.3 GHz', '4.5 GHz', '2.9 GHz', '2 GHz',\n",
       "       '2.6 GHz'], dtype=object)"
      ]
     },
     "execution_count": 31,
     "metadata": {},
     "output_type": "execute_result"
    }
   ],
   "source": [
    "col = 'clock_speed'\n",
    "aws_u = df_aws[col].unique()\n",
    "aws_u"
   ]
  },
  {
   "cell_type": "code",
   "execution_count": 32,
   "id": "a496d5b3",
   "metadata": {},
   "outputs": [
    {
     "data": {
      "text/plain": [
       "array([2.1 , 2.5 , 2.  ,  nan, 3.2 , 2.6 , 2.35, 3.7 , 2.55])"
      ]
     },
     "execution_count": 32,
     "metadata": {},
     "output_type": "execute_result"
    }
   ],
   "source": [
    "azu_u = df_azure[col].unique()\n",
    "azu_u"
   ]
  },
  {
   "cell_type": "code",
   "execution_count": 33,
   "id": "e9b12f92",
   "metadata": {},
   "outputs": [
    {
     "data": {
      "text/plain": [
       "array([nan, 2. , 2.8, 3.1, 2.5, 2.2])"
      ]
     },
     "execution_count": 33,
     "metadata": {},
     "output_type": "execute_result"
    }
   ],
   "source": [
    "df_gcp[col].unique()"
   ]
  },
  {
   "cell_type": "markdown",
   "id": "10d3b492",
   "metadata": {},
   "source": [
    "### memory"
   ]
  },
  {
   "cell_type": "code",
   "execution_count": 34,
   "id": "c1c3a053",
   "metadata": {},
   "outputs": [
    {
     "name": "stdout",
     "output_type": "stream",
     "text": [
      "7.5 GiB mismatched\n",
      "61 GiB mismatched\n",
      "30.5 GiB mismatched\n",
      "15.25 GiB mismatched\n",
      "21 GiB mismatched\n",
      "15 GiB mismatched\n",
      "5.25 GiB mismatched\n",
      "3.75 GiB mismatched\n",
      "30 GiB mismatched\n",
      "976 GiB mismatched\n",
      "10.5 GiB mismatched\n",
      "60 GiB mismatched\n",
      "1 GiB mismatched\n",
      "0.5 GiB mismatched\n",
      "60.5 GiB mismatched\n",
      "17.1 GiB mismatched\n",
      "24576 GiB mismatched\n"
     ]
    }
   ],
   "source": [
    "compare_col_vals(df_aws,df_azure,'memory')"
   ]
  },
  {
   "cell_type": "code",
   "execution_count": 35,
   "id": "d77c8b61",
   "metadata": {},
   "outputs": [
    {
     "data": {
      "text/plain": [
       "array(['244 GiB', '64 GiB', '16 GiB', '7.5 GiB', '192 GiB', '256 GiB',\n",
       "       '128 GiB', '384 GiB', '68.4 GiB', '61 GiB', '30.5 GiB', '8 GiB',\n",
       "       '160 GiB', '15.25 GiB', '122 GiB', '512 GiB', '32 GiB', '1.7 GiB',\n",
       "       '96 GiB', '4 GiB', '144 GiB', '768 GiB', '732 GiB', '21 GiB',\n",
       "       '15 GiB', '5.25 GiB', '1952 GiB', '3.75 GiB', '488 GiB',\n",
       "       '9216 GiB', '48 GiB', '72 GiB', '3904 GiB', '30 GiB', '976 GiB',\n",
       "       '10.5 GiB', '12288 GiB', '2 GiB', '60 GiB', '1 GiB', '117 GiB',\n",
       "       '0.5 GiB', '42 GiB', '6144 GiB', '7 GiB', '60.5 GiB', '17.1 GiB',\n",
       "       '34.2 GiB', '18432 GiB', '24576 GiB'], dtype=object)"
      ]
     },
     "execution_count": 35,
     "metadata": {},
     "output_type": "execute_result"
    }
   ],
   "source": [
    "col = 'memory'\n",
    "aws_u = df_aws[col].unique()\n",
    "aws_u"
   ]
  },
  {
   "cell_type": "code",
   "execution_count": 36,
   "id": "ef00f863",
   "metadata": {},
   "outputs": [
    {
     "data": {
      "text/plain": [
       "array(['112 GiB', '256 GiB', '504 GiB', '28 GiB', '64 GiB', '437.5 GiB',\n",
       "       '96 GiB', '56 GiB', '16 GiB', '144 GiB', '128 GiB', '192 GiB',\n",
       "       '5,700 GiB', '432 GiB', '218.75 GiB', '160 GiB', '32 GiB',\n",
       "       '14 GiB', '4 GiB', '8 GiB', '224 GiB', '2 GiB', '140 GiB',\n",
       "       '2,850 GiB', '1,750 GiB', '512 GiB', '672 GiB', '384 GiB',\n",
       "       '2,000 GiB', '7 GiB', '456 GiB', '448 GiB', '11,400 GiB',\n",
       "       '875 GiB', '1,000 GiB', '110 GiB', '3,800 GiB', '3.5 GiB',\n",
       "       '440 GiB', '640 GiB', '352 GiB', '900 GiB'], dtype=object)"
      ]
     },
     "execution_count": 36,
     "metadata": {},
     "output_type": "execute_result"
    }
   ],
   "source": [
    "azu_u = df_azure[col].unique()\n",
    "azu_u"
   ]
  },
  {
   "cell_type": "code",
   "execution_count": 37,
   "id": "9df4390a",
   "metadata": {},
   "outputs": [
    {
     "data": {
      "text/plain": [
       "array([6.0000e-01, 1.7000e+00, 1.4400e+01, 1.8000e+00, 2.8800e+01,\n",
       "       3.6000e+00, 5.7600e+01, 7.2000e+00, 8.6400e+01, 1.0400e+02,\n",
       "       1.3000e+01, 2.0800e+02, 2.6000e+01, 4.1600e+02, 5.2000e+01,\n",
       "       6.2400e+02, 3.7500e+00, 6.0000e+01, 7.5000e+00, 1.2000e+02,\n",
       "       1.5000e+01, 2.4000e+02, 3.0000e+01, 3.6000e+02, 8.0000e+00,\n",
       "       1.6000e+01, 3.2000e+01, 6.4000e+01, 1.2800e+02, 1.9200e+02,\n",
       "       2.5600e+02, 3.2000e+02, 3.8400e+02, 5.1200e+02, 6.4000e+02,\n",
       "       2.0000e+00, 4.0000e+00, 4.8000e+01, 8.0000e+01, 8.9600e+02,\n",
       "       7.6800e+02, 9.6000e+01, 2.2400e+02, 1.0000e+00, 9.6100e+02,\n",
       "       1.9220e+03, 3.8440e+03, 1.4336e+03, 5.8880e+03, 1.1776e+04,\n",
       "       8.5000e+01, 1.7000e+02, 3.4000e+02, 6.8000e+02, 1.3600e+03])"
      ]
     },
     "execution_count": 37,
     "metadata": {},
     "output_type": "execute_result"
    }
   ],
   "source": [
    "df_gcp[col].unique()"
   ]
  },
  {
   "cell_type": "code",
   "execution_count": 38,
   "id": "a92a4413",
   "metadata": {},
   "outputs": [
    {
     "name": "stderr",
     "output_type": "stream",
     "text": [
      "/home/jon/anaconda3/envs/DATA558/lib/python3.7/site-packages/ipykernel_launcher.py:3: FutureWarning: The default value of regex will change from True to False in a future version.\n",
      "  This is separate from the ipykernel package so we can avoid doing imports until\n"
     ]
    }
   ],
   "source": [
    "df_gcp_str = df_gcp.copy()\n",
    "df_gcp_str[col] = df_gcp[col].astype(str) + ' GiB'\n",
    "df_gcp_str[col] = df_gcp_str[col].str.replace('.0', ' ')"
   ]
  },
  {
   "cell_type": "code",
   "execution_count": 39,
   "id": "f3edcf3f",
   "metadata": {},
   "outputs": [
    {
     "data": {
      "text/plain": [
       "array(['0.6 GiB', '1.7 GiB', '14.4 GiB', '1.8 GiB', '28.8 GiB', '3.6 GiB',\n",
       "       '57.6 GiB', '7.2 GiB', '86.4 GiB', ' 4  GiB', '13  GiB', ' 8  GiB',\n",
       "       '26  GiB', '416  GiB', '52  GiB', '624  GiB', '3.75 GiB', '   GiB',\n",
       "       '7.5 GiB', '1   GiB', '15  GiB', '2   GiB', '3   GiB', '8  GiB',\n",
       "       '16  GiB', '32  GiB', '64  GiB', '128  GiB', '192  GiB',\n",
       "       '256  GiB', '384  GiB', '512  GiB', '6   GiB', '2  GiB', '4  GiB',\n",
       "       '48  GiB', '896  GiB', '768  GiB', '96  GiB', '224  GiB', '1  GiB',\n",
       "       '961  GiB', '1922  GiB', '3844  GiB', '1433.6 GiB', '5888  GiB',\n",
       "       '11776  GiB', '85  GiB', '13   GiB'], dtype=object)"
      ]
     },
     "execution_count": 39,
     "metadata": {},
     "output_type": "execute_result"
    }
   ],
   "source": [
    "df_gcp_str[col].unique()"
   ]
  },
  {
   "cell_type": "markdown",
   "id": "d7ba0289",
   "metadata": {},
   "source": [
    "### storage"
   ]
  },
  {
   "cell_type": "code",
   "execution_count": 40,
   "id": "80c627c7",
   "metadata": {},
   "outputs": [
    {
     "data": {
      "text/plain": [
       "array(['2 x 320 SSD', '1 x 300 NVMe SSD', '125 GB NVMe SSD',\n",
       "       '600 GB NVMe SSD', '2 x 420 SSD', '2 x 1900 NVMe SSD',\n",
       "       '2 x 600 NVMe SSD', 'EBS only', '2 x 900 NVMe SSD', '2 x 840 SSD',\n",
       "       '1 x 80 SSD', '4 x 600 NVMe SSD', '4 x 900 NVMe SSD',\n",
       "       '1 x 2500 NVMe SSD', '1 x 160 SSD', '1 x 7500 NVMe SSD',\n",
       "       '4 x 1900 NVMe SSD', '1 x 1250 NVMe SSD', '1 x 950 NVMe SSD',\n",
       "       '1 x 150 NVMe SSD', '2 x 2500 NVMe SSD', '2 x 800 SSD',\n",
       "       '24 x 2000 HDD', '2 x 40 SSD', '1 x 50 NVMe SSD', '1 x 1920 SSD',\n",
       "       '2 x 80 SSD', '8 x 1900 NVMe SSD', '2 x 300 NVMe SSD',\n",
       "       '1 x 400 NVMe SSD', '1 x 900 NVMe SSD', '2 x 1920 SSD',\n",
       "       '1 x 960 SSD', '8 x 7500 NVMe SSD', '225 GB NVMe SSD',\n",
       "       '1 x 480 SSD', '1 x 475 NVMe SSD', '1 x 1900 NVMe SSD',\n",
       "       '2 x 900 GB NVMe SSD', '2 x 160 SSD', '2 x 7500 NVMe SSD',\n",
       "       '1 x 75 NVMe SSD', '1 x 200 NVMe SSD', '4 x 7500 NVMe SSD',\n",
       "       '900 GB NVMe SSD', '1 x 100 NVMe SSD', '1 x 450 NVMe SSD',\n",
       "       '3 x 2000 HDD', '1 x 4 SSD', '1 x 120 SSD', '1 x 32 SSD',\n",
       "       '12 x 14000 HDD', '12 x 2000 HDD', '24 x 14000 HDD',\n",
       "       '6 x 2000 HDD', '4 x 800 SSD', '2 x 16 SSD', '1 x 2000 HDD',\n",
       "       '1 x 320 SSD', '2 x 120 SSD', '1 x 240 SSD', '1 x 800 SSD',\n",
       "       '4 x 14000 HDD', '2 x 1200 NVMe SSD', '1 x 60 SSD', '4 x 2000 HDD',\n",
       "       '8 x 800 SSD', '4 x 420 SSD', '150 GB NVMe SSD',\n",
       "       '1200 GB NVMe SSD', '8 x 2000 HDD', '1 x 350 SSD',\n",
       "       '2400 GB NVMe SSD', '2 x 2000 HDD', '8 x 14000 HDD',\n",
       "       '300 GB NVMe SSD', '4 x 840 SSD', '1 x 420 SSD', '2 x 14000 HDD',\n",
       "       '1 x 410 SSD', '16 x 14000 HDD', '1 x 850 SSD',\n",
       "       '32 x 2000 NVMe SSD', '1 x 470 NVMe SSD', '4 x 940 NVMe SSD'],\n",
       "      dtype=object)"
      ]
     },
     "execution_count": 40,
     "metadata": {},
     "output_type": "execute_result"
    }
   ],
   "source": [
    "col = 'storage'\n",
    "aws_u = df_aws[col].unique()\n",
    "aws_u"
   ]
  },
  {
   "cell_type": "code",
   "execution_count": 41,
   "id": "69ea43bc",
   "metadata": {},
   "outputs": [
    {
     "data": {
      "text/plain": [
       "array(['224 GiB', '800 GiB', nan, '384 GiB', '80 GiB', '512 GiB',\n",
       "       '256 GiB', '1,000 GiB', '112 GiB', '400 GiB', '1,200 GiB',\n",
       "       '576 GiB', '8,192 GiB', '32 GiB', '50 GiB', '360 GiB', '2,000 GiB',\n",
       "       '1,600 GiB', '864 GiB', '600 GiB', '64 GiB', '100 GiB', '28 GiB',\n",
       "       '8 GiB', '16 GiB', '1,440 GiB', '75 GiB', '10 GiB', '280 GiB',\n",
       "       '200 GiB', '128 GiB', '750 GiB', '4,096 GiB', '150 GiB',\n",
       "       '1,800 GiB', '2,048 GiB', '40 GiB', '2,400 GiB', '300 GiB',\n",
       "       '20 GiB', '768 GiB', '56 GiB', '88 GiB', '900 GiB', '678 GiB',\n",
       "       '2,948 GiB', '672 GiB', '480 GiB', '320 GiB', '14 GiB', '4 GiB',\n",
       "       '1,024 GiB', '1,344 GiB', '352 GiB', '1,536 GiB', '500 GiB',\n",
       "       '680 GiB', '700 GiB', '5,630 GiB', '7 GiB', '160 GiB', '640 GiB',\n",
       "       '1,474 GiB', '736 GiB', '2,807 GiB', '336 GiB', '340 GiB',\n",
       "       '2,880 GiB', '6,144 GiB', '1,388 GiB', '176 GiB', '3,072 GiB',\n",
       "       '180 GiB', '6,500 GiB', '2,900 GiB'], dtype=object)"
      ]
     },
     "execution_count": 41,
     "metadata": {},
     "output_type": "execute_result"
    }
   ],
   "source": [
    "azu_u = df_azure[col].unique()\n",
    "azu_u"
   ]
  },
  {
   "cell_type": "code",
   "execution_count": 42,
   "id": "a41365ce",
   "metadata": {},
   "outputs": [
    {
     "data": {
      "text/plain": [
       "array([nan])"
      ]
     },
     "execution_count": 42,
     "metadata": {},
     "output_type": "execute_result"
    }
   ],
   "source": [
    "df_gcp_storage = df_gcp_str.copy()\n",
    "df_gcp_storage[col] = np.nan\n",
    "df_gcp_storage[col].unique()"
   ]
  },
  {
   "cell_type": "markdown",
   "id": "af822ae2",
   "metadata": {},
   "source": [
    "### tenancy"
   ]
  },
  {
   "cell_type": "code",
   "execution_count": 43,
   "id": "168f0aab",
   "metadata": {},
   "outputs": [
    {
     "data": {
      "text/plain": [
       "array(['Host', 'Shared', 'Dedicated'], dtype=object)"
      ]
     },
     "execution_count": 43,
     "metadata": {},
     "output_type": "execute_result"
    }
   ],
   "source": [
    "col = 'tenancy'\n",
    "aws_u = df_aws[col].unique()\n",
    "aws_u"
   ]
  },
  {
   "cell_type": "code",
   "execution_count": 44,
   "id": "bb7ebeee",
   "metadata": {},
   "outputs": [
    {
     "data": {
      "text/plain": [
       "array([False,  True])"
      ]
     },
     "execution_count": 44,
     "metadata": {},
     "output_type": "execute_result"
    }
   ],
   "source": [
    "azu_u = df_azure[col].unique()\n",
    "azu_u"
   ]
  },
  {
   "cell_type": "code",
   "execution_count": 45,
   "id": "c5d4900b",
   "metadata": {},
   "outputs": [],
   "source": [
    "df_azure.loc[df_azure[col]==False, col] = 'Shared'\n",
    "df_azure.loc[df_azure[col]==True, col] = 'Dedicated'"
   ]
  },
  {
   "cell_type": "code",
   "execution_count": 46,
   "id": "aed85d5e",
   "metadata": {},
   "outputs": [
    {
     "data": {
      "text/plain": [
       "array(['Shared', 'Dedicated'], dtype=object)"
      ]
     },
     "execution_count": 46,
     "metadata": {},
     "output_type": "execute_result"
    }
   ],
   "source": [
    "azu_u = df_azure[col].unique()\n",
    "azu_u"
   ]
  },
  {
   "cell_type": "code",
   "execution_count": 47,
   "id": "923e2056",
   "metadata": {},
   "outputs": [
    {
     "data": {
      "text/html": [
       "<div>\n",
       "<style scoped>\n",
       "    .dataframe tbody tr th:only-of-type {\n",
       "        vertical-align: middle;\n",
       "    }\n",
       "\n",
       "    .dataframe tbody tr th {\n",
       "        vertical-align: top;\n",
       "    }\n",
       "\n",
       "    .dataframe thead th {\n",
       "        text-align: right;\n",
       "    }\n",
       "</style>\n",
       "<table border=\"1\" class=\"dataframe\">\n",
       "  <thead>\n",
       "    <tr style=\"text-align: right;\">\n",
       "      <th></th>\n",
       "      <th>location</th>\n",
       "      <th>instance_type</th>\n",
       "      <th>instance_family</th>\n",
       "      <th>vcpu</th>\n",
       "      <th>clock_speed</th>\n",
       "      <th>memory</th>\n",
       "      <th>storage</th>\n",
       "      <th>price</th>\n",
       "      <th>tenancy</th>\n",
       "      <th>provider</th>\n",
       "    </tr>\n",
       "  </thead>\n",
       "  <tbody>\n",
       "    <tr>\n",
       "      <th>1325</th>\n",
       "      <td>EU West</td>\n",
       "      <td>Standard_G1</td>\n",
       "      <td>Memory optimized</td>\n",
       "      <td>2</td>\n",
       "      <td>2.0</td>\n",
       "      <td>28 GiB</td>\n",
       "      <td>384 GiB</td>\n",
       "      <td>0.7700</td>\n",
       "      <td>Dedicated</td>\n",
       "      <td>Azure</td>\n",
       "    </tr>\n",
       "    <tr>\n",
       "      <th>1326</th>\n",
       "      <td>EU West</td>\n",
       "      <td>Standard_G1</td>\n",
       "      <td>Memory optimized</td>\n",
       "      <td>2</td>\n",
       "      <td>2.0</td>\n",
       "      <td>28 GiB</td>\n",
       "      <td>384 GiB</td>\n",
       "      <td>0.7000</td>\n",
       "      <td>Dedicated</td>\n",
       "      <td>Azure</td>\n",
       "    </tr>\n",
       "    <tr>\n",
       "      <th>1327</th>\n",
       "      <td>US Gov TX</td>\n",
       "      <td>Standard_G1</td>\n",
       "      <td>Memory optimized</td>\n",
       "      <td>2</td>\n",
       "      <td>2.0</td>\n",
       "      <td>28 GiB</td>\n",
       "      <td>384 GiB</td>\n",
       "      <td>0.7625</td>\n",
       "      <td>Dedicated</td>\n",
       "      <td>Azure</td>\n",
       "    </tr>\n",
       "    <tr>\n",
       "      <th>1328</th>\n",
       "      <td>US West Central</td>\n",
       "      <td>Standard_G1</td>\n",
       "      <td>Memory optimized</td>\n",
       "      <td>2</td>\n",
       "      <td>2.0</td>\n",
       "      <td>28 GiB</td>\n",
       "      <td>384 GiB</td>\n",
       "      <td>0.6100</td>\n",
       "      <td>Dedicated</td>\n",
       "      <td>Azure</td>\n",
       "    </tr>\n",
       "    <tr>\n",
       "      <th>1329</th>\n",
       "      <td>US West Central</td>\n",
       "      <td>Standard_G1</td>\n",
       "      <td>Memory optimized</td>\n",
       "      <td>2</td>\n",
       "      <td>2.0</td>\n",
       "      <td>28 GiB</td>\n",
       "      <td>384 GiB</td>\n",
       "      <td>0.5500</td>\n",
       "      <td>Dedicated</td>\n",
       "      <td>Azure</td>\n",
       "    </tr>\n",
       "    <tr>\n",
       "      <th>...</th>\n",
       "      <td>...</td>\n",
       "      <td>...</td>\n",
       "      <td>...</td>\n",
       "      <td>...</td>\n",
       "      <td>...</td>\n",
       "      <td>...</td>\n",
       "      <td>...</td>\n",
       "      <td>...</td>\n",
       "      <td>...</td>\n",
       "      <td>...</td>\n",
       "    </tr>\n",
       "    <tr>\n",
       "      <th>58389</th>\n",
       "      <td>US West 2</td>\n",
       "      <td>Standard_G4</td>\n",
       "      <td>Memory optimized</td>\n",
       "      <td>16</td>\n",
       "      <td>2.0</td>\n",
       "      <td>224 GiB</td>\n",
       "      <td>3,072 GiB</td>\n",
       "      <td>3.9220</td>\n",
       "      <td>Dedicated</td>\n",
       "      <td>Azure</td>\n",
       "    </tr>\n",
       "    <tr>\n",
       "      <th>58390</th>\n",
       "      <td>US West 2</td>\n",
       "      <td>Standard_G4</td>\n",
       "      <td>Memory optimized</td>\n",
       "      <td>16</td>\n",
       "      <td>2.0</td>\n",
       "      <td>224 GiB</td>\n",
       "      <td>3,072 GiB</td>\n",
       "      <td>4.4750</td>\n",
       "      <td>Dedicated</td>\n",
       "      <td>Azure</td>\n",
       "    </tr>\n",
       "    <tr>\n",
       "      <th>58391</th>\n",
       "      <td>US Gov Virginia</td>\n",
       "      <td>Standard_G4</td>\n",
       "      <td>Memory optimized</td>\n",
       "      <td>16</td>\n",
       "      <td>2.0</td>\n",
       "      <td>224 GiB</td>\n",
       "      <td>3,072 GiB</td>\n",
       "      <td>4.4000</td>\n",
       "      <td>Dedicated</td>\n",
       "      <td>Azure</td>\n",
       "    </tr>\n",
       "    <tr>\n",
       "      <th>58392</th>\n",
       "      <td>JA East</td>\n",
       "      <td>Standard_G4</td>\n",
       "      <td>Memory optimized</td>\n",
       "      <td>16</td>\n",
       "      <td>2.0</td>\n",
       "      <td>224 GiB</td>\n",
       "      <td>3,072 GiB</td>\n",
       "      <td>4.6020</td>\n",
       "      <td>Dedicated</td>\n",
       "      <td>Azure</td>\n",
       "    </tr>\n",
       "    <tr>\n",
       "      <th>58393</th>\n",
       "      <td>JA East</td>\n",
       "      <td>Standard_G4</td>\n",
       "      <td>Memory optimized</td>\n",
       "      <td>16</td>\n",
       "      <td>2.0</td>\n",
       "      <td>224 GiB</td>\n",
       "      <td>3,072 GiB</td>\n",
       "      <td>5.1190</td>\n",
       "      <td>Dedicated</td>\n",
       "      <td>Azure</td>\n",
       "    </tr>\n",
       "  </tbody>\n",
       "</table>\n",
       "<p>325 rows × 10 columns</p>\n",
       "</div>"
      ],
      "text/plain": [
       "              location instance_type   instance_family vcpu  clock_speed  \\\n",
       "1325           EU West   Standard_G1  Memory optimized    2          2.0   \n",
       "1326           EU West   Standard_G1  Memory optimized    2          2.0   \n",
       "1327         US Gov TX   Standard_G1  Memory optimized    2          2.0   \n",
       "1328   US West Central   Standard_G1  Memory optimized    2          2.0   \n",
       "1329   US West Central   Standard_G1  Memory optimized    2          2.0   \n",
       "...                ...           ...               ...  ...          ...   \n",
       "58389        US West 2   Standard_G4  Memory optimized   16          2.0   \n",
       "58390        US West 2   Standard_G4  Memory optimized   16          2.0   \n",
       "58391  US Gov Virginia   Standard_G4  Memory optimized   16          2.0   \n",
       "58392          JA East   Standard_G4  Memory optimized   16          2.0   \n",
       "58393          JA East   Standard_G4  Memory optimized   16          2.0   \n",
       "\n",
       "        memory    storage   price    tenancy provider  \n",
       "1325    28 GiB    384 GiB  0.7700  Dedicated    Azure  \n",
       "1326    28 GiB    384 GiB  0.7000  Dedicated    Azure  \n",
       "1327    28 GiB    384 GiB  0.7625  Dedicated    Azure  \n",
       "1328    28 GiB    384 GiB  0.6100  Dedicated    Azure  \n",
       "1329    28 GiB    384 GiB  0.5500  Dedicated    Azure  \n",
       "...        ...        ...     ...        ...      ...  \n",
       "58389  224 GiB  3,072 GiB  3.9220  Dedicated    Azure  \n",
       "58390  224 GiB  3,072 GiB  4.4750  Dedicated    Azure  \n",
       "58391  224 GiB  3,072 GiB  4.4000  Dedicated    Azure  \n",
       "58392  224 GiB  3,072 GiB  4.6020  Dedicated    Azure  \n",
       "58393  224 GiB  3,072 GiB  5.1190  Dedicated    Azure  \n",
       "\n",
       "[325 rows x 10 columns]"
      ]
     },
     "execution_count": 47,
     "metadata": {},
     "output_type": "execute_result"
    }
   ],
   "source": [
    "df_azure[df_azure[col]=='Dedicated']"
   ]
  },
  {
   "cell_type": "markdown",
   "id": "31a73f7f",
   "metadata": {},
   "source": [
    "### price"
   ]
  },
  {
   "cell_type": "code",
   "execution_count": 48,
   "id": "7e7972bd",
   "metadata": {},
   "outputs": [
    {
     "data": {
      "text/plain": [
       "array([ 0.   ,  1.704,  0.19 , ..., 27.289,  0.053, 15.292])"
      ]
     },
     "execution_count": 48,
     "metadata": {},
     "output_type": "execute_result"
    }
   ],
   "source": [
    "col = 'price'\n",
    "aws_u = df_aws[col].unique()\n",
    "aws_u"
   ]
  },
  {
   "cell_type": "code",
   "execution_count": 49,
   "id": "3d29043a",
   "metadata": {},
   "outputs": [
    {
     "data": {
      "text/plain": [
       "array([1.48200e+00, 2.17100e+00, 2.90700e+00, ..., 1.30885e+05,\n",
       "       2.82780e+01, 1.18152e+05])"
      ]
     },
     "execution_count": 49,
     "metadata": {},
     "output_type": "execute_result"
    }
   ],
   "source": [
    "azu_u = df_azure[col].unique()\n",
    "azu_u"
   ]
  },
  {
   "cell_type": "code",
   "execution_count": 50,
   "id": "b1365df3",
   "metadata": {},
   "outputs": [
    {
     "data": {
      "text/plain": [
       "array([7.600000e-03, 8.600000e-03, 9.100000e-03, ..., 8.796980e+00,\n",
       "       9.684030e+00, 1.085126e+01], dtype=float32)"
      ]
     },
     "execution_count": 50,
     "metadata": {},
     "output_type": "execute_result"
    }
   ],
   "source": [
    "df_gcp_price = df_gcp_storage.rename(columns={'on demand price':'price'})\n",
    "df_gcp_price[col].unique()"
   ]
  },
  {
   "cell_type": "code",
   "execution_count": 51,
   "id": "89489b1b",
   "metadata": {},
   "outputs": [],
   "source": [
    "df_gcp_price_drop = df_gcp_price.drop(columns=['local_ssd'])"
   ]
  },
  {
   "cell_type": "code",
   "execution_count": 52,
   "id": "60b9e678",
   "metadata": {},
   "outputs": [],
   "source": [
    "# Good enough.."
   ]
  },
  {
   "cell_type": "markdown",
   "id": "ab379766",
   "metadata": {},
   "source": [
    "## Merge AWS and Azure dataframes"
   ]
  },
  {
   "cell_type": "code",
   "execution_count": 53,
   "id": "e50ff00c",
   "metadata": {},
   "outputs": [],
   "source": [
    "df_merged =  df_aws.append(df_azure)\n",
    "df_merged.reset_index(drop=True, inplace=True)"
   ]
  },
  {
   "cell_type": "markdown",
   "id": "1241ca5b",
   "metadata": {},
   "source": [
    "## Merge GCP"
   ]
  },
  {
   "cell_type": "code",
   "execution_count": 54,
   "id": "d020d69b",
   "metadata": {},
   "outputs": [],
   "source": [
    "df_full_merge =  df_merged.append(df_gcp_price_drop)\n",
    "df_full_merge.reset_index(drop=True, inplace=True)"
   ]
  },
  {
   "cell_type": "code",
   "execution_count": 55,
   "id": "c26bc14f",
   "metadata": {},
   "outputs": [
    {
     "data": {
      "text/html": [
       "<div>\n",
       "<style scoped>\n",
       "    .dataframe tbody tr th:only-of-type {\n",
       "        vertical-align: middle;\n",
       "    }\n",
       "\n",
       "    .dataframe tbody tr th {\n",
       "        vertical-align: top;\n",
       "    }\n",
       "\n",
       "    .dataframe thead th {\n",
       "        text-align: right;\n",
       "    }\n",
       "</style>\n",
       "<table border=\"1\" class=\"dataframe\">\n",
       "  <thead>\n",
       "    <tr style=\"text-align: right;\">\n",
       "      <th></th>\n",
       "      <th>location</th>\n",
       "      <th>instance_type</th>\n",
       "      <th>instance_family</th>\n",
       "      <th>vcpu</th>\n",
       "      <th>clock_speed</th>\n",
       "      <th>memory</th>\n",
       "      <th>storage</th>\n",
       "      <th>tenancy</th>\n",
       "      <th>price</th>\n",
       "      <th>provider</th>\n",
       "    </tr>\n",
       "  </thead>\n",
       "  <tbody>\n",
       "    <tr>\n",
       "      <th>0</th>\n",
       "      <td>Asia Pacific (Osaka)</td>\n",
       "      <td>r3.8xlarge</td>\n",
       "      <td>Memory optimized</td>\n",
       "      <td>32.0</td>\n",
       "      <td>2.5 GHz</td>\n",
       "      <td>244 GiB</td>\n",
       "      <td>2 x 320 SSD</td>\n",
       "      <td>Host</td>\n",
       "      <td>0.00000</td>\n",
       "      <td>AWS</td>\n",
       "    </tr>\n",
       "    <tr>\n",
       "      <th>1</th>\n",
       "      <td>EU (Ireland)</td>\n",
       "      <td>r5ad.2xlarge</td>\n",
       "      <td>Memory optimized</td>\n",
       "      <td>8.0</td>\n",
       "      <td>2.5 GHz</td>\n",
       "      <td>64 GiB</td>\n",
       "      <td>1 x 300 NVMe SSD</td>\n",
       "      <td>Shared</td>\n",
       "      <td>0.00000</td>\n",
       "      <td>AWS</td>\n",
       "    </tr>\n",
       "    <tr>\n",
       "      <th>2</th>\n",
       "      <td>US West (Oregon)</td>\n",
       "      <td>g4dn.xlarge</td>\n",
       "      <td>GPU optimized</td>\n",
       "      <td>4.0</td>\n",
       "      <td>2.5 GHz</td>\n",
       "      <td>16 GiB</td>\n",
       "      <td>125 GB NVMe SSD</td>\n",
       "      <td>Host</td>\n",
       "      <td>0.00000</td>\n",
       "      <td>AWS</td>\n",
       "    </tr>\n",
       "    <tr>\n",
       "      <th>3</th>\n",
       "      <td>EU (Ireland)</td>\n",
       "      <td>g4ad.4xlarge</td>\n",
       "      <td>GPU optimized</td>\n",
       "      <td>16.0</td>\n",
       "      <td>2.8 GHz</td>\n",
       "      <td>64 GiB</td>\n",
       "      <td>600 GB NVMe SSD</td>\n",
       "      <td>Shared</td>\n",
       "      <td>1.70400</td>\n",
       "      <td>AWS</td>\n",
       "    </tr>\n",
       "    <tr>\n",
       "      <th>4</th>\n",
       "      <td>EU (Ireland)</td>\n",
       "      <td>m1.large</td>\n",
       "      <td>General purpose</td>\n",
       "      <td>2.0</td>\n",
       "      <td>NaN</td>\n",
       "      <td>7.5 GiB</td>\n",
       "      <td>2 x 420 SSD</td>\n",
       "      <td>Shared</td>\n",
       "      <td>0.19000</td>\n",
       "      <td>AWS</td>\n",
       "    </tr>\n",
       "    <tr>\n",
       "      <th>...</th>\n",
       "      <td>...</td>\n",
       "      <td>...</td>\n",
       "      <td>...</td>\n",
       "      <td>...</td>\n",
       "      <td>...</td>\n",
       "      <td>...</td>\n",
       "      <td>...</td>\n",
       "      <td>...</td>\n",
       "      <td>...</td>\n",
       "      <td>...</td>\n",
       "    </tr>\n",
       "    <tr>\n",
       "      <th>181105</th>\n",
       "      <td>asia-southeast1</td>\n",
       "      <td>a2-highgpu-8g</td>\n",
       "      <td>GPU optimized</td>\n",
       "      <td>96</td>\n",
       "      <td>2.2</td>\n",
       "      <td>6   GiB</td>\n",
       "      <td>NaN</td>\n",
       "      <td>Shared</td>\n",
       "      <td>7.29758</td>\n",
       "      <td>GCP</td>\n",
       "    </tr>\n",
       "    <tr>\n",
       "      <th>181106</th>\n",
       "      <td>us-central1</td>\n",
       "      <td>a2-megagpu-16g</td>\n",
       "      <td>GPU optimized</td>\n",
       "      <td>96</td>\n",
       "      <td>2.2</td>\n",
       "      <td>13   GiB</td>\n",
       "      <td>NaN</td>\n",
       "      <td>Shared</td>\n",
       "      <td>8.79698</td>\n",
       "      <td>GCP</td>\n",
       "    </tr>\n",
       "    <tr>\n",
       "      <th>181107</th>\n",
       "      <td>europe-west4</td>\n",
       "      <td>a2-megagpu-16g</td>\n",
       "      <td>GPU optimized</td>\n",
       "      <td>96</td>\n",
       "      <td>2.2</td>\n",
       "      <td>13   GiB</td>\n",
       "      <td>NaN</td>\n",
       "      <td>Shared</td>\n",
       "      <td>9.68403</td>\n",
       "      <td>GCP</td>\n",
       "    </tr>\n",
       "    <tr>\n",
       "      <th>181108</th>\n",
       "      <td>asia-southeast</td>\n",
       "      <td>a2-megagpu-16g</td>\n",
       "      <td>GPU optimized</td>\n",
       "      <td>96</td>\n",
       "      <td>2.2</td>\n",
       "      <td>13   GiB</td>\n",
       "      <td>NaN</td>\n",
       "      <td>Shared</td>\n",
       "      <td>10.85126</td>\n",
       "      <td>GCP</td>\n",
       "    </tr>\n",
       "    <tr>\n",
       "      <th>181109</th>\n",
       "      <td>asia-southeast1</td>\n",
       "      <td>a2-megagpu-16g</td>\n",
       "      <td>GPU optimized</td>\n",
       "      <td>96</td>\n",
       "      <td>2.2</td>\n",
       "      <td>13   GiB</td>\n",
       "      <td>NaN</td>\n",
       "      <td>Shared</td>\n",
       "      <td>10.85126</td>\n",
       "      <td>GCP</td>\n",
       "    </tr>\n",
       "  </tbody>\n",
       "</table>\n",
       "<p>181110 rows × 10 columns</p>\n",
       "</div>"
      ],
      "text/plain": [
       "                    location   instance_type   instance_family  vcpu  \\\n",
       "0       Asia Pacific (Osaka)      r3.8xlarge  Memory optimized  32.0   \n",
       "1               EU (Ireland)    r5ad.2xlarge  Memory optimized   8.0   \n",
       "2           US West (Oregon)     g4dn.xlarge     GPU optimized   4.0   \n",
       "3               EU (Ireland)    g4ad.4xlarge     GPU optimized  16.0   \n",
       "4               EU (Ireland)        m1.large   General purpose   2.0   \n",
       "...                      ...             ...               ...   ...   \n",
       "181105       asia-southeast1   a2-highgpu-8g     GPU optimized    96   \n",
       "181106           us-central1  a2-megagpu-16g     GPU optimized    96   \n",
       "181107          europe-west4  a2-megagpu-16g     GPU optimized    96   \n",
       "181108        asia-southeast  a2-megagpu-16g     GPU optimized    96   \n",
       "181109       asia-southeast1  a2-megagpu-16g     GPU optimized    96   \n",
       "\n",
       "       clock_speed    memory           storage tenancy     price provider  \n",
       "0          2.5 GHz   244 GiB       2 x 320 SSD    Host   0.00000      AWS  \n",
       "1          2.5 GHz    64 GiB  1 x 300 NVMe SSD  Shared   0.00000      AWS  \n",
       "2          2.5 GHz    16 GiB   125 GB NVMe SSD    Host   0.00000      AWS  \n",
       "3          2.8 GHz    64 GiB   600 GB NVMe SSD  Shared   1.70400      AWS  \n",
       "4              NaN   7.5 GiB       2 x 420 SSD  Shared   0.19000      AWS  \n",
       "...            ...       ...               ...     ...       ...      ...  \n",
       "181105         2.2   6   GiB               NaN  Shared   7.29758      GCP  \n",
       "181106         2.2  13   GiB               NaN  Shared   8.79698      GCP  \n",
       "181107         2.2  13   GiB               NaN  Shared   9.68403      GCP  \n",
       "181108         2.2  13   GiB               NaN  Shared  10.85126      GCP  \n",
       "181109         2.2  13   GiB               NaN  Shared  10.85126      GCP  \n",
       "\n",
       "[181110 rows x 10 columns]"
      ]
     },
     "execution_count": 55,
     "metadata": {},
     "output_type": "execute_result"
    }
   ],
   "source": [
    "df_full_merge"
   ]
  },
  {
   "cell_type": "code",
   "execution_count": 56,
   "id": "44e2ba77",
   "metadata": {},
   "outputs": [],
   "source": [
    "df_merged.to_pickle('./data/all.merged.compute.xz.pkl', compression='xz')"
   ]
  },
  {
   "cell_type": "code",
   "execution_count": 57,
   "id": "d8786830",
   "metadata": {},
   "outputs": [],
   "source": [
    "df_merged.to_csv('./data/all.merged.csv')"
   ]
  },
  {
   "cell_type": "code",
   "execution_count": null,
   "id": "d42deeb3",
   "metadata": {},
   "outputs": [],
   "source": []
  }
 ],
 "metadata": {
  "kernelspec": {
   "display_name": "Python 3",
   "language": "python",
   "name": "python3"
  },
  "language_info": {
   "codemirror_mode": {
    "name": "ipython",
    "version": 3
   },
   "file_extension": ".py",
   "mimetype": "text/x-python",
   "name": "python",
   "nbconvert_exporter": "python",
   "pygments_lexer": "ipython3",
   "version": "3.7.10"
  }
 },
 "nbformat": 4,
 "nbformat_minor": 5
}
