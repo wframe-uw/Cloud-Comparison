{
 "cells": [
  {
   "cell_type": "code",
   "execution_count": null,
   "id": "d6fca5ab",
   "metadata": {},
   "outputs": [],
   "source": [
    "import pandas as pd\n",
    "import requests as rq\n",
    "import json\n",
    "import urllib.parse as urlparse\n",
    "from urllib.parse import parse_qs\n",
    "from urllib.parse import unquote\n",
    "from datetime import datetime"
   ]
  },
  {
   "cell_type": "code",
   "execution_count": null,
   "id": "332b2c2b",
   "metadata": {},
   "outputs": [],
   "source": [
    "# Helper method for extracting the number of the next skip value\n",
    "def extract_skip(url):\n",
    "    decoded = unquote(url)\n",
    "    parsed = urlparse.urlparse(decoded)\n",
    "    result = parse_qs(parsed.query)['$skip'][0]\n",
    "    return int(result)\n",
    "\n",
    "def read_page(items, url):\n",
    "    reponse = rq.get(url)\n",
    "    page = json.loads(reponse.text)\n",
    "    items += page['Items'] \n",
    "    next_page = page['NextPageLink']\n",
    "    return items, next_page\n",
    "\n",
    "items = []   "
   ]
  },
  {
   "cell_type": "code",
   "execution_count": null,
   "id": "21c0e962",
   "metadata": {},
   "outputs": [],
   "source": [
    "url = \"https://prices.azure.com/api/retail/prices?currencyCode='USD'&$filter=serviceFamily%20eq%20'Compute'\"\n",
    "items, next_page = read_page(items, url)"
   ]
  },
  {
   "cell_type": "code",
   "execution_count": null,
   "id": "a126bae6",
   "metadata": {},
   "outputs": [],
   "source": [
    "while next_page:\n",
    "    items, next_page = read_page(items, next_page)    \n",
    "    if not next_page:\n",
    "        break\n",
    "    \n",
    "    # only print for every 1000 pages\n",
    "    skip = extract_skip(next_page)\n",
    "    if skip % 1000 == 0 :\n",
    "        now = datetime.now()\n",
    "        dt_string = now.strftime('%H:%M:%S')\n",
    "        print (dt_string, ': ', next_page)\n",
    "        \n",
    "print('===== Done ======')"
   ]
  },
  {
   "cell_type": "code",
   "execution_count": null,
   "id": "a03e7c04",
   "metadata": {},
   "outputs": [],
   "source": [
    "# pickle\n",
    "json_data = pd.DataFrame(items)\n",
    "json_data.to_pickle('./data/azure.xz.pkl', compression='xz')"
   ]
  }
 ],
 "metadata": {
  "kernelspec": {
   "display_name": "Python 3",
   "language": "python",
   "name": "python3"
  },
  "language_info": {
   "codemirror_mode": {
    "name": "ipython",
    "version": 3
   },
   "file_extension": ".py",
   "mimetype": "text/x-python",
   "name": "python",
   "nbconvert_exporter": "python",
   "pygments_lexer": "ipython3",
   "version": "3.7.10"
  }
 },
 "nbformat": 4,
 "nbformat_minor": 5
}
